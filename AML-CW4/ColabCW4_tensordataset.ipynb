{
  "nbformat": 4,
  "nbformat_minor": 0,
  "metadata": {
    "colab": {
      "name": "ColabCW4_tensordataset.ipynb",
      "provenance": [],
      "collapsed_sections": []
    },
    "kernelspec": {
      "name": "python3",
      "display_name": "Python 3"
    },
    "language_info": {
      "name": "python"
    }
  },
  "cells": [
    {
      "cell_type": "code",
      "execution_count": 72,
      "metadata": {
        "colab": {
          "base_uri": "https://localhost:8080/"
        },
        "id": "9mKXR06jOdYT",
        "outputId": "1d4add13-1dcb-447c-b0ea-caeeeeaae81c"
      },
      "outputs": [
        {
          "output_type": "execute_result",
          "data": {
            "text/plain": [
              "<torch._C.Generator at 0x7f1ef51e4fd0>"
            ]
          },
          "metadata": {},
          "execution_count": 72
        }
      ],
      "source": [
        "from PIL import Image\n",
        "\n",
        "import pandas as pd\n",
        "import numpy as np\n",
        "import json\n",
        "from tqdm import tqdm\n",
        "import time\n",
        "from easydict import EasyDict\n",
        "\n",
        "import torch\n",
        "import torch.nn as nn\n",
        "import torch.nn.functional as F\n",
        "from torch.utils.data import TensorDataset, DataLoader\n",
        "import torchvision.transforms as transforms\n",
        "\n",
        "torch.manual_seed(1)"
      ]
    },
    {
      "cell_type": "code",
      "source": [
        "import os\n",
        "colab = \"/content/drive/Othercomputers/내 iMac/Meta_Learning/코스웍/2022 고급기계학습주제 (김광인)/과제/CW4/code\""
      ],
      "metadata": {
        "id": "4eZEQWToPA-f"
      },
      "execution_count": 4,
      "outputs": []
    },
    {
      "cell_type": "code",
      "source": [
        "img_train = []\n",
        "\n",
        "for i in tqdm(range(1,3001)):\n",
        "    ImagePATH = \"data/Training/depth/\"\n",
        "    img_name = \"depth_1_\" + str(i).zfill(7) + \".png\"\n",
        "    ImagePATH = os.path.join(colab,ImagePATH + img_name)\n",
        "    img_train.append(np.array(Image.open(ImagePATH), dtype=np.float32))"
      ],
      "metadata": {
        "colab": {
          "base_uri": "https://localhost:8080/"
        },
        "id": "EXjpdwMaOmR5",
        "outputId": "8683356c-d2f2-4e99-8902-3d2935ce24b9"
      },
      "execution_count": 24,
      "outputs": [
        {
          "output_type": "stream",
          "name": "stderr",
          "text": [
            "100%|██████████| 3000/3000 [19:42<00:00,  2.54it/s]\n"
          ]
        }
      ]
    },
    {
      "cell_type": "code",
      "source": [
        "img_val = []\n",
        "\n",
        "for i in tqdm(range(3001,3151)):\n",
        "    ImagePATH = \"data/Training/depth/\"\n",
        "    img_name = \"depth_1_\" + str(i).zfill(7) + \".png\"\n",
        "    ImagePATH = os.path.join(colab, ImagePATH + img_name)\n",
        "    img_val.append(np.array(Image.open(ImagePATH), dtype=np.float32))"
      ],
      "metadata": {
        "colab": {
          "base_uri": "https://localhost:8080/"
        },
        "id": "GqCgQrtZOpeS",
        "outputId": "5c2e5afc-f101-4948-9ce3-e9bfed93f1e9"
      },
      "execution_count": 8,
      "outputs": [
        {
          "output_type": "stream",
          "name": "stderr",
          "text": [
            "100%|██████████| 150/150 [01:11<00:00,  2.09it/s]\n"
          ]
        }
      ]
    },
    {
      "cell_type": "code",
      "source": [
        "img_test = []\n",
        "\n",
        "for i in tqdm(range(1,301)):\n",
        "    ImagePATH = \"data/Testing/depth/\"\n",
        "    img_name = \"depth_1_\" + str(i).zfill(7) + \".png\"\n",
        "    ImagePATH = os.path.join(colab, ImagePATH + img_name)\n",
        "    img_test.append(np.array(Image.open(ImagePATH), dtype=np.float32))"
      ],
      "metadata": {
        "colab": {
          "base_uri": "https://localhost:8080/"
        },
        "id": "OzKBbyQbOojB",
        "outputId": "561d14f4-977f-46dd-fca4-863f038586fa"
      },
      "execution_count": 25,
      "outputs": [
        {
          "output_type": "stream",
          "name": "stderr",
          "text": [
            "100%|██████████| 300/300 [02:34<00:00,  1.95it/s]\n"
          ]
        }
      ]
    },
    {
      "cell_type": "code",
      "source": [
        "X_train = np.array(img_train, dtype=np.float32)\n",
        "X_val = np.array(img_val, dtype=np.float32)\n",
        "X_test = np.array(img_test, dtype=np.float32)\n",
        "\n",
        "mean=1881.42\n",
        "std=12.29\n",
        "\n",
        "# Standardise\n",
        "X_train -= mean\n",
        "X_train /= std\n",
        "X_val -= mean\n",
        "X_val /= std\n",
        "X_test -= mean\n",
        "X_test /= std\n",
        "\n",
        "np.save(os.path.join(colab, \"data/X_train\"),X_train)\n",
        "np.save(os.path.join(colab, \"data/X_val\"),X_val)\n",
        "np.save(os.path.join(colab, \"data/X_test\"),X_test)\n",
        "\n",
        "print(\"train image dim:\", X_train.shape)\n",
        "print(\"val image dim:\", X_val.shape)\n",
        "print(\"test image dim:\", X_test.shape)"
      ],
      "metadata": {
        "colab": {
          "base_uri": "https://localhost:8080/"
        },
        "id": "pIWozUv5OpCf",
        "outputId": "b56f2c76-99f3-4c69-f10b-bccd2340012c"
      },
      "execution_count": 26,
      "outputs": [
        {
          "output_type": "stream",
          "name": "stdout",
          "text": [
            "train image dim: (3000, 240, 320)\n",
            "val image dim: (150, 240, 320)\n",
            "test image dim: (300, 240, 320)\n"
          ]
        }
      ]
    },
    {
      "cell_type": "code",
      "source": [
        "whole_y_train = pd.read_csv(os.path.join(colab,\"data/Training/Annotation_Training.csv\"),\n",
        "                            usecols = [i for i in range(1,64)],\n",
        "                            skiprows = [1,2,3])\n",
        "whole_y_test = pd.read_csv(os.path.join(colab,\"data/Testing/Annotation_Testing.csv\"),\n",
        "                      usecols = [i for i in range(1,64)],\n",
        "                      skiprows = [1,2,3])\n",
        "\n",
        "whole_y_train.set_axis([i for i in range(63)], axis=1, inplace=True)\n",
        "whole_y_test.set_axis([i for i in range(63)], axis=1, inplace=True)\n",
        "\n",
        "y_train = whole_y_train[:3000]\n",
        "y_val = whole_y_train[3000:3150]\n",
        "y_test = whole_y_test[:300]"
      ],
      "metadata": {
        "id": "rSYNlgJiUEUu"
      },
      "execution_count": 27,
      "outputs": []
    },
    {
      "cell_type": "markdown",
      "source": [
        "## Parameters"
      ],
      "metadata": {
        "id": "ZFHG0ubRWJco"
      }
    },
    {
      "cell_type": "code",
      "source": [
        "batch_size = 32\n",
        "mlp_hidden_size = 77\n",
        "lr = 0.1\n",
        "n_epochs = 10"
      ],
      "metadata": {
        "id": "VW1GgpBGWM44"
      },
      "execution_count": 30,
      "outputs": []
    },
    {
      "cell_type": "markdown",
      "source": [
        "## Tensor Dataset"
      ],
      "metadata": {
        "id": "2h6_fRtcU-tS"
      }
    },
    {
      "cell_type": "code",
      "source": [
        "def make_loader(X, y, bs):\n",
        "    \"\"\"X, y: ndarray\"\"\"\n",
        "    X = torch.tensor(X, dtype=torch.float32)\n",
        "    y = torch.tensor(y.values, dtype=torch.float32)\n",
        "    ds = TensorDataset(X, y)\n",
        "    loader = DataLoader(ds, batch_size=bs, shuffle=True, drop_last=True)\n",
        "    return loader"
      ],
      "metadata": {
        "id": "woKARvLmU-hT"
      },
      "execution_count": 35,
      "outputs": []
    },
    {
      "cell_type": "code",
      "source": [
        "train_loader = make_loader(X_train, y_train, batch_size)\n",
        "val_loader = make_loader(X_val, y_val, batch_size)\n",
        "test_loader = make_loader(X_test, y_test, batch_size)"
      ],
      "metadata": {
        "id": "2VfEp_IuVx1f"
      },
      "execution_count": 38,
      "outputs": []
    },
    {
      "cell_type": "code",
      "source": [
        "# check\n",
        "for img, label in train_loader:\n",
        "  print(img.shape)\n",
        "  print(label.shape)\n",
        "  break"
      ],
      "metadata": {
        "colab": {
          "base_uri": "https://localhost:8080/"
        },
        "id": "V9YpcK0HZIlJ",
        "outputId": "e004a71f-2a8d-4cb4-bc6a-e6e7a1935a7b"
      },
      "execution_count": 39,
      "outputs": [
        {
          "output_type": "stream",
          "name": "stdout",
          "text": [
            "torch.Size([32, 240, 320])\n",
            "torch.Size([32, 63])\n"
          ]
        }
      ]
    },
    {
      "cell_type": "markdown",
      "source": [
        "# 3.MLP"
      ],
      "metadata": {
        "id": "J7sT5FksTwhN"
      }
    },
    {
      "cell_type": "code",
      "source": [
        "# Device configuration\n",
        "device = torch.device('cuda' if torch.cuda.is_available() else 'cpu')"
      ],
      "metadata": {
        "id": "oz4FbCh9TwGa"
      },
      "execution_count": 40,
      "outputs": []
    },
    {
      "cell_type": "code",
      "source": [
        "class MLP(nn.Module):\n",
        "    def __init__(self, input_size, hidden_size, output_size=63, dropout=nn.Dropout(0.5)):\n",
        "        super().__init__()\n",
        "        self.input_size = input_size\n",
        "        self.hidden_size = hidden_size\n",
        "        self.dropout = dropout\n",
        "        self.linear = nn.Sequential(\n",
        "            nn.Linear(input_size, hidden_size),\n",
        "            nn.ReLU(),\n",
        "            self.dropout,\n",
        "            nn.Linear(hidden_size, hidden_size),\n",
        "            nn.ReLU(),\n",
        "            self.dropout,\n",
        "            nn.Linear(hidden_size, output_size)\n",
        "        )\n",
        "    \n",
        "    def forward(self, x):\n",
        "        x = self.linear(x)\n",
        "        return x"
      ],
      "metadata": {
        "id": "xrG4NbwPUDhq"
      },
      "execution_count": 41,
      "outputs": []
    },
    {
      "cell_type": "code",
      "source": [
        "model = MLP(input_size=76800, hidden_size = mlp_hidden_size).to(device)\n",
        "model"
      ],
      "metadata": {
        "colab": {
          "base_uri": "https://localhost:8080/"
        },
        "id": "ddR3dJ0oWgb2",
        "outputId": "46807b01-b38b-4ec6-eed8-985d2a1acf08"
      },
      "execution_count": 42,
      "outputs": [
        {
          "output_type": "execute_result",
          "data": {
            "text/plain": [
              "MLP(\n",
              "  (dropout): Dropout(p=0.5, inplace=False)\n",
              "  (linear): Sequential(\n",
              "    (0): Linear(in_features=76800, out_features=77, bias=True)\n",
              "    (1): ReLU()\n",
              "    (2): Dropout(p=0.5, inplace=False)\n",
              "    (3): Linear(in_features=77, out_features=77, bias=True)\n",
              "    (4): ReLU()\n",
              "    (5): Dropout(p=0.5, inplace=False)\n",
              "    (6): Linear(in_features=77, out_features=63, bias=True)\n",
              "  )\n",
              ")"
            ]
          },
          "metadata": {},
          "execution_count": 42
        }
      ]
    },
    {
      "cell_type": "code",
      "source": [
        "# Loss and optimizer\n",
        "criterion = nn.MSELoss()\n",
        "optimizer = torch.optim.Adam(model.parameters(), lr=lr)"
      ],
      "metadata": {
        "id": "gPka-Tm7Wtwu"
      },
      "execution_count": 43,
      "outputs": []
    },
    {
      "cell_type": "code",
      "source": [
        "loss = {\"train\":[], \"val\":[], \"test\":[]}\n",
        "best_mse = 9999999999\n",
        "PATH = \"/content/drive/Othercomputers/내 iMac/Meta_Learning/코스웍/2022 고급기계학습주제 (김광인)/과제/CW4/code/best_models\"\n",
        "\n",
        "# Train the model\n",
        "start = time.time()\n",
        "\n",
        "for epoch in range(n_epochs):\n",
        "    running_train_loss = 0.0\n",
        "    running_val_loss = 0.0\n",
        "\n",
        "    model.train()\n",
        "    for i, (images, labels) in enumerate(tqdm(train_loader)):  \n",
        "        # origin shape: [32, 240, 320]\n",
        "        # resized: [32, 76800]\n",
        "        images = images.reshape(batch_size, -1).to(device)\n",
        "        labels = labels.to(device)\n",
        "        \n",
        "        # Forward pass\n",
        "        outputs = model(images)\n",
        "        outputs = outputs.squeeze(1)\n",
        "        train_loss = criterion(outputs, labels)\n",
        "\n",
        "        # Backward and optimize\n",
        "        optimizer.zero_grad()\n",
        "        train_loss.backward()\n",
        "        optimizer.step()\n",
        "\n",
        "        running_train_loss +=train_loss.item()\n",
        "\n",
        "    train_loss_value = running_train_loss/len(train_loader)\n",
        "    loss[\"train\"].append(train_loss_value)\n",
        "\n",
        "    if (i+1) % 1 == 0:\n",
        "        print (f'Epoch [{epoch+1}/{n_epochs}], Train Loss: {train_loss_value:.4f}')\n",
        "\n",
        "    # Validation loop\n",
        "    with torch.no_grad():\n",
        "        model.eval()\n",
        "        for images, labels in val_loader:\n",
        "            images = images.reshape(batch_size, 1, -1).to(device)\n",
        "            labels = labels.to(device)\n",
        "            \n",
        "            outputs = model(images)\n",
        "            outputs = outputs.squeeze(1)\n",
        "            val_loss = criterion(outputs, labels)\n",
        "            running_val_loss += val_loss.item()\n",
        "\n",
        "        # Calculate validation loss value \n",
        "        val_loss_value = running_val_loss/len(val_loader) \n",
        "        loss[\"val\"].append(val_loss_value)\n",
        "        print (f'Epoch [{epoch+1}/{n_epochs}], Validation Loss: {val_loss_value:.4f}')\n",
        "    \n",
        "    # Save the model if MSE loss is the best\n",
        "    if val_loss_value < best_mse:\n",
        "        torch.save(model.state_dict(), os.path.join(PATH, f\"MLP_hs{mlp_hidden_size}.pth\"))\n",
        "        best_mse = val_loss_value\n",
        "        print(\"new best model! Epoch:\", epoch+1, \" Lr:\", lr)\n",
        "end = time.time()\n",
        "print(\"Run time [s]: \",end-start)\n",
        "\n",
        "import json\n",
        "json.dumps(loss)"
      ],
      "metadata": {
        "colab": {
          "base_uri": "https://localhost:8080/",
          "height": 806
        },
        "id": "G_JLrLiHWtrx",
        "outputId": "6d8d9ec3-a164-4b01-8093-4f23cc869bba"
      },
      "execution_count": 46,
      "outputs": [
        {
          "output_type": "stream",
          "name": "stderr",
          "text": [
            "100%|██████████| 93/93 [00:08<00:00, 10.48it/s]\n"
          ]
        },
        {
          "output_type": "stream",
          "name": "stdout",
          "text": [
            "Epoch [1/10], Train Loss: 0.6811\n",
            "Epoch [1/10], Validation Loss: 0.6512\n",
            "new best model! Epoch: 1  Lr: 0.1\n"
          ]
        },
        {
          "output_type": "stream",
          "name": "stderr",
          "text": [
            "100%|██████████| 93/93 [00:08<00:00, 10.62it/s]\n"
          ]
        },
        {
          "output_type": "stream",
          "name": "stdout",
          "text": [
            "Epoch [2/10], Train Loss: 0.6549\n",
            "Epoch [2/10], Validation Loss: 0.6318\n",
            "new best model! Epoch: 2  Lr: 0.1\n"
          ]
        },
        {
          "output_type": "stream",
          "name": "stderr",
          "text": [
            "100%|██████████| 93/93 [00:08<00:00, 10.57it/s]\n"
          ]
        },
        {
          "output_type": "stream",
          "name": "stdout",
          "text": [
            "Epoch [3/10], Train Loss: 0.6185\n",
            "Epoch [3/10], Validation Loss: 0.6103\n",
            "new best model! Epoch: 3  Lr: 0.1\n"
          ]
        },
        {
          "output_type": "stream",
          "name": "stderr",
          "text": [
            "100%|██████████| 93/93 [00:08<00:00, 10.60it/s]\n"
          ]
        },
        {
          "output_type": "stream",
          "name": "stdout",
          "text": [
            "Epoch [4/10], Train Loss: 0.5924\n",
            "Epoch [4/10], Validation Loss: 0.5871\n",
            "new best model! Epoch: 4  Lr: 0.1\n"
          ]
        },
        {
          "output_type": "stream",
          "name": "stderr",
          "text": [
            "100%|██████████| 93/93 [00:08<00:00, 10.63it/s]\n"
          ]
        },
        {
          "output_type": "stream",
          "name": "stdout",
          "text": [
            "Epoch [5/10], Train Loss: 0.5691\n",
            "Epoch [5/10], Validation Loss: 0.5628\n",
            "new best model! Epoch: 5  Lr: 0.1\n"
          ]
        },
        {
          "output_type": "stream",
          "name": "stderr",
          "text": [
            "100%|██████████| 93/93 [00:15<00:00,  5.98it/s]\n"
          ]
        },
        {
          "output_type": "stream",
          "name": "stdout",
          "text": [
            "Epoch [6/10], Train Loss: 0.5436\n",
            "Epoch [6/10], Validation Loss: 0.5380\n",
            "new best model! Epoch: 6  Lr: 0.1\n"
          ]
        },
        {
          "output_type": "stream",
          "name": "stderr",
          "text": [
            "100%|██████████| 93/93 [00:19<00:00,  4.73it/s]\n"
          ]
        },
        {
          "output_type": "stream",
          "name": "stdout",
          "text": [
            "Epoch [7/10], Train Loss: 0.5169\n",
            "Epoch [7/10], Validation Loss: 0.5121\n",
            "new best model! Epoch: 7  Lr: 0.1\n"
          ]
        },
        {
          "output_type": "stream",
          "name": "stderr",
          "text": [
            "100%|██████████| 93/93 [00:17<00:00,  5.36it/s]\n"
          ]
        },
        {
          "output_type": "stream",
          "name": "stdout",
          "text": [
            "Epoch [8/10], Train Loss: 0.4932\n",
            "Epoch [8/10], Validation Loss: 0.4867\n",
            "new best model! Epoch: 8  Lr: 0.1\n"
          ]
        },
        {
          "output_type": "stream",
          "name": "stderr",
          "text": [
            "100%|██████████| 93/93 [00:16<00:00,  5.65it/s]\n"
          ]
        },
        {
          "output_type": "stream",
          "name": "stdout",
          "text": [
            "Epoch [9/10], Train Loss: 0.4680\n",
            "Epoch [9/10], Validation Loss: 0.4606\n",
            "new best model! Epoch: 9  Lr: 0.1\n"
          ]
        },
        {
          "output_type": "stream",
          "name": "stderr",
          "text": [
            "100%|██████████| 93/93 [00:16<00:00,  5.68it/s]\n"
          ]
        },
        {
          "output_type": "stream",
          "name": "stdout",
          "text": [
            "Epoch [10/10], Train Loss: 0.4424\n",
            "Epoch [10/10], Validation Loss: 0.4351\n",
            "new best model! Epoch: 10  Lr: 0.1\n",
            "Run time [s]:  130.98547840118408\n"
          ]
        },
        {
          "output_type": "execute_result",
          "data": {
            "text/plain": [
              "'{\"train\": [0.6810867087815398, 0.6549177253118126, 0.6185270829867291, 0.5924347536538237, 0.5690698142974607, 0.5435593403795714, 0.5169278780619303, 0.4931814004016179, 0.46796243133083465, 0.4423946103742046], \"val\": [0.6511548757553101, 0.6318150162696838, 0.6102837324142456, 0.5870993584394455, 0.5628125071525574, 0.5380411595106125, 0.5121318697929382, 0.4867373928427696, 0.46061599999666214, 0.4350716546177864], \"test\": []}'"
            ],
            "application/vnd.google.colaboratory.intrinsic+json": {
              "type": "string"
            }
          },
          "metadata": {},
          "execution_count": 46
        }
      ]
    },
    {
      "cell_type": "code",
      "source": [
        "import matplotlib.pyplot as plt\n",
        "\n",
        "plt.figure(figsize=(10,5))\n",
        "plt.plot(loss[\"train\"], label='Train MSE')\n",
        "plt.plot(loss[\"val\"], label='Validation MSE')\n",
        "\n",
        "plt.title(f\"MLP hs = {mlp_hidden_size}\")\n",
        "plt.xlabel(\"Epoch\")\n",
        "plt.ylabel(\"MSE\")\n",
        "plt.legend()\n",
        "plt.show()"
      ],
      "metadata": {
        "colab": {
          "base_uri": "https://localhost:8080/",
          "height": 350
        },
        "id": "37_CcBAJXE6o",
        "outputId": "b3ebd3da-3828-4172-e5cc-30a369438c64"
      },
      "execution_count": 50,
      "outputs": [
        {
          "output_type": "display_data",
          "data": {
            "text/plain": [
              "<Figure size 720x360 with 1 Axes>"
            ],
            "image/png": "[encoded data removed]"
          },
          "metadata": {
            "needs_background": "light"
          }
        }
      ]
    },
    {
      "cell_type": "code",
      "source": [
        "# Test loop\n",
        "# Load the model that we saved at the end of the training loop\n",
        "# model = MLP(76800, mlp_hidden_size).to(device)\n",
        "# path = f\"MLP_hs{mlp_hidden_size}.pth\" \n",
        "# model.load_state_dict(torch.load(path)) \n",
        "  \n",
        "running_test_mse = 0.0\n",
        "\n",
        "with torch.no_grad(): \n",
        "    for images, labels in tqdm(test_loader):\n",
        "        images = images.reshape(batch_size, -1).to(device)\n",
        "        labels = labels.to(device) \n",
        "  \n",
        "        outputs = model(images)\n",
        "        outputs = outputs.squeeze(1)\n",
        "\n",
        "        test_mse = F.mse_loss(outputs, labels)\n",
        "        running_test_mse += test_mse.item()\n",
        "        \n",
        "    # Calculate test loss value \n",
        "    test_loss_value = running_test_mse/len(test_loader) \n",
        "    loss[\"test\"].append(test_loss_value)\n",
        "    print (f'Test MSE: {test_loss_value:.4f}')"
      ],
      "metadata": {
        "colab": {
          "base_uri": "https://localhost:8080/"
        },
        "id": "-BrF9NHNdKRo",
        "outputId": "0e6332f1-990e-4854-c386-5920b72034d7"
      },
      "execution_count": 55,
      "outputs": [
        {
          "output_type": "stream",
          "name": "stderr",
          "text": [
            "100%|██████████| 9/9 [00:00<00:00, 52.25it/s]"
          ]
        },
        {
          "output_type": "stream",
          "name": "stdout",
          "text": [
            "Test MSE: 0.4700\n"
          ]
        },
        {
          "output_type": "stream",
          "name": "stderr",
          "text": [
            "\n"
          ]
        }
      ]
    },
    {
      "cell_type": "markdown",
      "source": [
        "# MLP automation"
      ],
      "metadata": {
        "id": "imnO16QMcUx6"
      }
    },
    {
      "cell_type": "code",
      "source": [
        "def train(batch_size, mlp_hidden_size, lr, n_epochs):\n",
        "    # Device configuration\n",
        "    device = torch.device('cuda' if torch.cuda.is_available() else 'cpu')\n",
        "\n",
        "    # Model\n",
        "    model = MLP(76800, mlp_hidden_size).to(device)\n",
        "    \n",
        "    # Loss and optimizer\n",
        "    criterion = nn.MSELoss()\n",
        "    optimizer = torch.optim.Adam(model.parameters(), lr=lr)\n",
        "\n",
        "    # Loop preparation\n",
        "    loss = {\"train\":[], \"val\":[], \"test\":[]}\n",
        "    best_mse = 9999999999\n",
        "    PATH = \"/content/drive/Othercomputers/내 iMac/Meta_Learning/코스웍/2022 고급기계학습주제 (김광인)/과제/CW4/code/best_models\"\n",
        "\n",
        "    # Train the model\n",
        "    print(\"Train starts!\")\n",
        "    start = time.time()\n",
        "\n",
        "    for epoch in range(n_epochs):\n",
        "        running_train_loss = 0.0\n",
        "        running_val_loss = 0.0\n",
        "\n",
        "        model.train()\n",
        "        for i, (images, labels) in enumerate(tqdm(train_loader)):  \n",
        "            # origin shape: [32, 240, 320]\n",
        "            # resized: [32, 76800]\n",
        "            images = images.reshape(batch_size, -1).to(device)\n",
        "            labels = labels.to(device)\n",
        "            \n",
        "            # Forward pass\n",
        "            outputs = model(images)\n",
        "            outputs = outputs.squeeze(1)\n",
        "            train_loss = criterion(outputs, labels)\n",
        "\n",
        "            # Backward and optimize\n",
        "            optimizer.zero_grad()\n",
        "            train_loss.backward()\n",
        "            optimizer.step()\n",
        "\n",
        "            running_train_loss +=train_loss.item()\n",
        "\n",
        "        train_loss_value = running_train_loss/len(train_loader)\n",
        "        loss[\"train\"].append(train_loss_value)\n",
        "\n",
        "        if (epoch+1) % 5 == 0:\n",
        "            print(f'Epoch [{epoch+1}/{n_epochs}], Train Loss: {train_loss_value:.4f}')\n",
        "\n",
        "        # Validation loop\n",
        "        with torch.no_grad():\n",
        "            model.eval()\n",
        "            for images, labels in val_loader:\n",
        "                images = images.reshape(batch_size, 1, -1).to(device)\n",
        "                labels = labels.to(device)\n",
        "                \n",
        "                outputs = model(images)\n",
        "                outputs = outputs.squeeze(1)\n",
        "                val_loss = criterion(outputs, labels)\n",
        "                running_val_loss += val_loss.item()\n",
        "\n",
        "            # Calculate validation loss value \n",
        "            val_loss_value = running_val_loss/len(val_loader) \n",
        "            loss[\"val\"].append(val_loss_value)\n",
        "            if (epoch+1) % 5 == 0:\n",
        "                print(f'Epoch [{epoch+1}/{n_epochs}], Validation Loss: {val_loss_value:.4f}')\n",
        "        \n",
        "        # Save the model if MSE loss is the best\n",
        "        if val_loss_value < best_mse:\n",
        "            torch.save(model.state_dict(), os.path.join(PATH, f\"MLP_hs{mlp_hidden_size}_lr{lr}.pth\"))\n",
        "            best_mse = val_loss_value\n",
        "            # print(\"new best model! Epoch:\", epoch+1, \" Lr:\", lr)\n",
        "    end = time.time()\n",
        "    print(\"Run time [s]: \",end-start)\n",
        "    \n",
        "    json.dumps(loss)\n",
        "\n",
        "    return loss, model"
      ],
      "metadata": {
        "id": "D29u26j3gloC"
      },
      "execution_count": 121,
      "outputs": []
    },
    {
      "cell_type": "code",
      "source": [
        "def test(loss, mlp_hidden_size, lr, batch_size=32):\n",
        "    # Device configuration\n",
        "    device = torch.device('cuda' if torch.cuda.is_available() else 'cpu')\n",
        "\n",
        "    # Load the model that we saved at the end of the training loop\n",
        "    model = MLP(76800, mlp_hidden_size).to(device)\n",
        "    PATH = \"/content/drive/Othercomputers/내 iMac/Meta_Learning/코스웍/2022 고급기계학습주제 (김광인)/과제/CW4/code/best_models\"\n",
        "    path = os.path.join(PATH, f\"MLP_hs{mlp_hidden_size}_lr{lr}.pth\")\n",
        "    model.load_state_dict(torch.load(path)) \n",
        "    running_test_mse = 0.0\n",
        "\n",
        "    print(\"Test starts!\")\n",
        "    with torch.no_grad(): \n",
        "        for images, labels in tqdm(test_loader):\n",
        "            images = images.reshape(batch_size, -1).to(device)\n",
        "            labels = labels.to(device) \n",
        "      \n",
        "            outputs = model(images)\n",
        "            outputs = outputs.squeeze(1)\n",
        "\n",
        "            test_mse = F.mse_loss(outputs, labels)\n",
        "            running_test_mse += test_mse.item()\n",
        "            \n",
        "        # Calculate test loss value \n",
        "        test_loss_value = running_test_mse/len(test_loader) \n",
        "        loss[\"test\"].append(test_loss_value)\n",
        "        print (f'Test MSE: {test_loss_value:.4f}')\n",
        "    return loss"
      ],
      "metadata": {
        "id": "6RFxY937jIdQ"
      },
      "execution_count": 108,
      "outputs": []
    },
    {
      "cell_type": "code",
      "source": [
        "args = EasyDict({\n",
        "    \"batch_size\": 32,\n",
        "    \"mlp_hidden_size\": 77,\n",
        "    \"lr\": 0.1,\n",
        "    \"n_epochs\": 30,\n",
        "})"
      ],
      "metadata": {
        "id": "7bAdzmw2b0cn"
      },
      "execution_count": 78,
      "outputs": []
    },
    {
      "cell_type": "code",
      "source": [
        "loss, _ = train(**args)\n",
        "loss = test(loss, args[\"mlp_hidden_size\"], args[\"lr\"], args[\"batch_size\"])\n",
        "\n",
        "plt.figure(figsize=(10,5))\n",
        "plt.plot(loss[\"train\"], label='Train MSE')\n",
        "plt.plot(loss[\"val\"], label='Validation MSE')\n",
        "\n",
        "plt.title(f\"MLP hs = {mlp_hidden_size}\")\n",
        "plt.xlabel(\"Epoch\")\n",
        "plt.ylabel(\"MSE\")\n",
        "plt.legend()\n",
        "plt.show()\n",
        "\n",
        "print(\"Test MSE\", loss[\"test\"])"
      ],
      "metadata": {
        "colab": {
          "base_uri": "https://localhost:8080/",
          "height": 1000
        },
        "id": "KEkichwgdHWE",
        "outputId": "2e27c305-1a45-4bcf-db07-94cc5106d8be"
      },
      "execution_count": 83,
      "outputs": [
        {
          "output_type": "stream",
          "name": "stdout",
          "text": [
            "Train starts!\n"
          ]
        },
        {
          "output_type": "stream",
          "name": "stderr",
          "text": [
            "100%|██████████| 93/93 [00:10<00:00,  8.47it/s]\n"
          ]
        },
        {
          "output_type": "stream",
          "name": "stdout",
          "text": [
            "Epoch [1/30], Train Loss: 15074530.3812\n",
            "Epoch [1/30], Validation Loss: 0.2540\n",
            "new best model! Epoch: 1  Lr: 0.1\n"
          ]
        },
        {
          "output_type": "stream",
          "name": "stderr",
          "text": [
            "100%|██████████| 93/93 [00:09<00:00,  9.56it/s]\n"
          ]
        },
        {
          "output_type": "stream",
          "name": "stdout",
          "text": [
            "Epoch [2/30], Train Loss: 2511.1502\n",
            "Epoch [2/30], Validation Loss: 0.2534\n",
            "new best model! Epoch: 2  Lr: 0.1\n"
          ]
        },
        {
          "output_type": "stream",
          "name": "stderr",
          "text": [
            "100%|██████████| 93/93 [00:09<00:00,  9.61it/s]\n"
          ]
        },
        {
          "output_type": "stream",
          "name": "stdout",
          "text": [
            "Epoch [3/30], Train Loss: 0.2374\n",
            "Epoch [3/30], Validation Loss: 0.2499\n",
            "new best model! Epoch: 3  Lr: 0.1\n"
          ]
        },
        {
          "output_type": "stream",
          "name": "stderr",
          "text": [
            "100%|██████████| 93/93 [00:09<00:00,  9.68it/s]\n"
          ]
        },
        {
          "output_type": "stream",
          "name": "stdout",
          "text": [
            "Epoch [4/30], Train Loss: 0.2333\n",
            "Epoch [4/30], Validation Loss: 0.2458\n",
            "new best model! Epoch: 4  Lr: 0.1\n"
          ]
        },
        {
          "output_type": "stream",
          "name": "stderr",
          "text": [
            "100%|██████████| 93/93 [00:09<00:00,  9.47it/s]\n"
          ]
        },
        {
          "output_type": "stream",
          "name": "stdout",
          "text": [
            "Epoch [5/30], Train Loss: 0.2283\n",
            "Epoch [5/30], Validation Loss: 0.2412\n",
            "new best model! Epoch: 5  Lr: 0.1\n"
          ]
        },
        {
          "output_type": "stream",
          "name": "stderr",
          "text": [
            "100%|██████████| 93/93 [00:09<00:00,  9.47it/s]\n"
          ]
        },
        {
          "output_type": "stream",
          "name": "stdout",
          "text": [
            "Epoch [6/30], Train Loss: 551.2418\n",
            "Epoch [6/30], Validation Loss: 0.2347\n",
            "new best model! Epoch: 6  Lr: 0.1\n"
          ]
        },
        {
          "output_type": "stream",
          "name": "stderr",
          "text": [
            "100%|██████████| 93/93 [00:09<00:00,  9.62it/s]\n"
          ]
        },
        {
          "output_type": "stream",
          "name": "stdout",
          "text": [
            "Epoch [7/30], Train Loss: 0.2169\n",
            "Epoch [7/30], Validation Loss: 0.2293\n",
            "new best model! Epoch: 7  Lr: 0.1\n"
          ]
        },
        {
          "output_type": "stream",
          "name": "stderr",
          "text": [
            "100%|██████████| 93/93 [00:09<00:00,  9.64it/s]\n"
          ]
        },
        {
          "output_type": "stream",
          "name": "stdout",
          "text": [
            "Epoch [8/30], Train Loss: 0.2117\n",
            "Epoch [8/30], Validation Loss: 0.2237\n",
            "new best model! Epoch: 8  Lr: 0.1\n"
          ]
        },
        {
          "output_type": "stream",
          "name": "stderr",
          "text": [
            "100%|██████████| 93/93 [00:14<00:00,  6.21it/s]\n"
          ]
        },
        {
          "output_type": "stream",
          "name": "stdout",
          "text": [
            "Epoch [9/30], Train Loss: 0.2059\n",
            "Epoch [9/30], Validation Loss: 0.2179\n",
            "new best model! Epoch: 9  Lr: 0.1\n"
          ]
        },
        {
          "output_type": "stream",
          "name": "stderr",
          "text": [
            "100%|██████████| 93/93 [00:20<00:00,  4.47it/s]\n"
          ]
        },
        {
          "output_type": "stream",
          "name": "stdout",
          "text": [
            "Epoch [10/30], Train Loss: 0.2004\n",
            "Epoch [10/30], Validation Loss: 0.2119\n",
            "new best model! Epoch: 10  Lr: 0.1\n"
          ]
        },
        {
          "output_type": "stream",
          "name": "stderr",
          "text": [
            "100%|██████████| 93/93 [00:18<00:00,  5.03it/s]\n"
          ]
        },
        {
          "output_type": "stream",
          "name": "stdout",
          "text": [
            "Epoch [11/30], Train Loss: 0.1940\n",
            "Epoch [11/30], Validation Loss: 0.2058\n",
            "new best model! Epoch: 11  Lr: 0.1\n"
          ]
        },
        {
          "output_type": "stream",
          "name": "stderr",
          "text": [
            "100%|██████████| 93/93 [00:17<00:00,  5.46it/s]\n"
          ]
        },
        {
          "output_type": "stream",
          "name": "stdout",
          "text": [
            "Epoch [12/30], Train Loss: 0.1879\n",
            "Epoch [12/30], Validation Loss: 0.1994\n",
            "new best model! Epoch: 12  Lr: 0.1\n"
          ]
        },
        {
          "output_type": "stream",
          "name": "stderr",
          "text": [
            "100%|██████████| 93/93 [00:16<00:00,  5.52it/s]\n"
          ]
        },
        {
          "output_type": "stream",
          "name": "stdout",
          "text": [
            "Epoch [13/30], Train Loss: 0.1818\n",
            "Epoch [13/30], Validation Loss: 0.1931\n",
            "new best model! Epoch: 13  Lr: 0.1\n"
          ]
        },
        {
          "output_type": "stream",
          "name": "stderr",
          "text": [
            "100%|██████████| 93/93 [00:16<00:00,  5.50it/s]\n"
          ]
        },
        {
          "output_type": "stream",
          "name": "stdout",
          "text": [
            "Epoch [14/30], Train Loss: 0.1749\n",
            "Epoch [14/30], Validation Loss: 0.1867\n",
            "new best model! Epoch: 14  Lr: 0.1\n"
          ]
        },
        {
          "output_type": "stream",
          "name": "stderr",
          "text": [
            "100%|██████████| 93/93 [00:16<00:00,  5.52it/s]\n"
          ]
        },
        {
          "output_type": "stream",
          "name": "stdout",
          "text": [
            "Epoch [15/30], Train Loss: 0.1695\n",
            "Epoch [15/30], Validation Loss: 0.1802\n",
            "new best model! Epoch: 15  Lr: 0.1\n"
          ]
        },
        {
          "output_type": "stream",
          "name": "stderr",
          "text": [
            "100%|██████████| 93/93 [00:17<00:00,  5.27it/s]\n"
          ]
        },
        {
          "output_type": "stream",
          "name": "stdout",
          "text": [
            "Epoch [16/30], Train Loss: 0.1628\n",
            "Epoch [16/30], Validation Loss: 0.1738\n",
            "new best model! Epoch: 16  Lr: 0.1\n"
          ]
        },
        {
          "output_type": "stream",
          "name": "stderr",
          "text": [
            "100%|██████████| 93/93 [00:17<00:00,  5.43it/s]\n"
          ]
        },
        {
          "output_type": "stream",
          "name": "stdout",
          "text": [
            "Epoch [17/30], Train Loss: 0.1569\n",
            "Epoch [17/30], Validation Loss: 0.1673\n",
            "new best model! Epoch: 17  Lr: 0.1\n"
          ]
        },
        {
          "output_type": "stream",
          "name": "stderr",
          "text": [
            "100%|██████████| 93/93 [00:18<00:00,  4.94it/s]\n"
          ]
        },
        {
          "output_type": "stream",
          "name": "stdout",
          "text": [
            "Epoch [18/30], Train Loss: 0.1503\n",
            "Epoch [18/30], Validation Loss: 0.1608\n",
            "new best model! Epoch: 18  Lr: 0.1\n"
          ]
        },
        {
          "output_type": "stream",
          "name": "stderr",
          "text": [
            "100%|██████████| 93/93 [00:18<00:00,  5.00it/s]\n"
          ]
        },
        {
          "output_type": "stream",
          "name": "stdout",
          "text": [
            "Epoch [19/30], Train Loss: 0.1442\n",
            "Epoch [19/30], Validation Loss: 0.1544\n",
            "new best model! Epoch: 19  Lr: 0.1\n"
          ]
        },
        {
          "output_type": "stream",
          "name": "stderr",
          "text": [
            "100%|██████████| 93/93 [00:19<00:00,  4.87it/s]\n"
          ]
        },
        {
          "output_type": "stream",
          "name": "stdout",
          "text": [
            "Epoch [20/30], Train Loss: 0.1381\n",
            "Epoch [20/30], Validation Loss: 0.1481\n",
            "new best model! Epoch: 20  Lr: 0.1\n"
          ]
        },
        {
          "output_type": "stream",
          "name": "stderr",
          "text": [
            "100%|██████████| 93/93 [00:19<00:00,  4.86it/s]\n"
          ]
        },
        {
          "output_type": "stream",
          "name": "stdout",
          "text": [
            "Epoch [21/30], Train Loss: 0.1316\n",
            "Epoch [21/30], Validation Loss: 0.1417\n",
            "new best model! Epoch: 21  Lr: 0.1\n"
          ]
        },
        {
          "output_type": "stream",
          "name": "stderr",
          "text": [
            "100%|██████████| 93/93 [00:17<00:00,  5.25it/s]\n"
          ]
        },
        {
          "output_type": "stream",
          "name": "stdout",
          "text": [
            "Epoch [22/30], Train Loss: 0.1255\n",
            "Epoch [22/30], Validation Loss: 0.1355\n",
            "new best model! Epoch: 22  Lr: 0.1\n"
          ]
        },
        {
          "output_type": "stream",
          "name": "stderr",
          "text": [
            "100%|██████████| 93/93 [00:16<00:00,  5.52it/s]\n"
          ]
        },
        {
          "output_type": "stream",
          "name": "stdout",
          "text": [
            "Epoch [23/30], Train Loss: 0.1197\n",
            "Epoch [23/30], Validation Loss: 0.1293\n",
            "new best model! Epoch: 23  Lr: 0.1\n"
          ]
        },
        {
          "output_type": "stream",
          "name": "stderr",
          "text": [
            "100%|██████████| 93/93 [00:16<00:00,  5.53it/s]\n"
          ]
        },
        {
          "output_type": "stream",
          "name": "stdout",
          "text": [
            "Epoch [24/30], Train Loss: 0.1140\n",
            "Epoch [24/30], Validation Loss: 0.1232\n",
            "new best model! Epoch: 24  Lr: 0.1\n"
          ]
        },
        {
          "output_type": "stream",
          "name": "stderr",
          "text": [
            "100%|██████████| 93/93 [00:16<00:00,  5.49it/s]\n"
          ]
        },
        {
          "output_type": "stream",
          "name": "stdout",
          "text": [
            "Epoch [25/30], Train Loss: 0.1082\n",
            "Epoch [25/30], Validation Loss: 0.1171\n",
            "new best model! Epoch: 25  Lr: 0.1\n"
          ]
        },
        {
          "output_type": "stream",
          "name": "stderr",
          "text": [
            "100%|██████████| 93/93 [00:16<00:00,  5.54it/s]\n"
          ]
        },
        {
          "output_type": "stream",
          "name": "stdout",
          "text": [
            "Epoch [26/30], Train Loss: 0.1027\n",
            "Epoch [26/30], Validation Loss: 0.1112\n",
            "new best model! Epoch: 26  Lr: 0.1\n"
          ]
        },
        {
          "output_type": "stream",
          "name": "stderr",
          "text": [
            "100%|██████████| 93/93 [00:16<00:00,  5.51it/s]\n"
          ]
        },
        {
          "output_type": "stream",
          "name": "stdout",
          "text": [
            "Epoch [27/30], Train Loss: 0.0973\n",
            "Epoch [27/30], Validation Loss: 0.1054\n",
            "new best model! Epoch: 27  Lr: 0.1\n"
          ]
        },
        {
          "output_type": "stream",
          "name": "stderr",
          "text": [
            "100%|██████████| 93/93 [00:16<00:00,  5.51it/s]\n"
          ]
        },
        {
          "output_type": "stream",
          "name": "stdout",
          "text": [
            "Epoch [28/30], Train Loss: 0.0917\n",
            "Epoch [28/30], Validation Loss: 0.0997\n",
            "new best model! Epoch: 28  Lr: 0.1\n"
          ]
        },
        {
          "output_type": "stream",
          "name": "stderr",
          "text": [
            "100%|██████████| 93/93 [00:16<00:00,  5.53it/s]\n"
          ]
        },
        {
          "output_type": "stream",
          "name": "stdout",
          "text": [
            "Epoch [29/30], Train Loss: 0.0864\n",
            "Epoch [29/30], Validation Loss: 0.0941\n",
            "new best model! Epoch: 29  Lr: 0.1\n"
          ]
        },
        {
          "output_type": "stream",
          "name": "stderr",
          "text": [
            "100%|██████████| 93/93 [00:16<00:00,  5.53it/s]\n"
          ]
        },
        {
          "output_type": "stream",
          "name": "stdout",
          "text": [
            "Epoch [30/30], Train Loss: 0.0812\n",
            "Epoch [30/30], Validation Loss: 0.0886\n",
            "new best model! Epoch: 30  Lr: 0.1\n",
            "Run time [s]:  469.7052357196808\n",
            "Test starts!\n"
          ]
        },
        {
          "output_type": "stream",
          "name": "stderr",
          "text": [
            "100%|██████████| 9/9 [00:00<00:00, 60.45it/s]"
          ]
        },
        {
          "output_type": "stream",
          "name": "stdout",
          "text": [
            "Test MSE: 0.1018\n"
          ]
        },
        {
          "output_type": "stream",
          "name": "stderr",
          "text": [
            "\n"
          ]
        },
        {
          "output_type": "display_data",
          "data": {
            "text/plain": [
              "<Figure size 720x360 with 1 Axes>"
            ],
            "image/png": "[encoded data removed]"
          },
          "metadata": {
            "needs_background": "light"
          }
        },
        {
          "output_type": "stream",
          "name": "stdout",
          "text": [
            "Test MSE [0.10183117455906338]\n"
          ]
        }
      ]
    },
    {
      "cell_type": "code",
      "source": [
        "plt.figure(figsize=(10,5))\n",
        "plt.plot(loss[\"train\"][6:], label='Train MSE')\n",
        "plt.plot(loss[\"val\"][6:], label='Validation MSE')\n",
        "\n",
        "plt.title(f\"MLP hs = {mlp_hidden_size}\")\n",
        "plt.xlabel(\"Epoch\")\n",
        "plt.ylabel(\"MSE\")\n",
        "plt.legend()\n",
        "plt.show()"
      ],
      "metadata": {
        "colab": {
          "base_uri": "https://localhost:8080/",
          "height": 350
        },
        "id": "_VsZmfJ_kupx",
        "outputId": "13f15d7e-25c9-431b-ad7b-048b71dafaee"
      },
      "execution_count": 88,
      "outputs": [
        {
          "output_type": "display_data",
          "data": {
            "text/plain": [
              "<Figure size 720x360 with 1 Axes>"
            ],
            "image/png": "[encoded data removed]"
          },
          "metadata": {
            "needs_background": "light"
          }
        }
      ]
    },
    {
      "cell_type": "code",
      "source": [
        "with open(os.path.join(colab, f\"loss/MLPloss_hs{mlp_hidden_size}_lr{lr}.json\"), 'w') as f:\n",
        "    json.dump(loss, f)"
      ],
      "metadata": {
        "id": "FmFEsecrn9uA"
      },
      "execution_count": 90,
      "outputs": []
    },
    {
      "cell_type": "code",
      "source": [
        "args = EasyDict({\n",
        "    \"batch_size\": 32,\n",
        "    \"mlp_hidden_size\": 77,\n",
        "    \"lr\": 0.2,\n",
        "    \"n_epochs\": 30,\n",
        "})\n",
        "\n",
        "loss, _ = train(**args)\n",
        "loss = test(loss, args[\"mlp_hidden_size\"], args[\"lr\"], args[\"batch_size\"])\n",
        "\n",
        "# Save\n",
        "mlp_hidden_size = args[\"mlp_hidden_size\"]\n",
        "lr = args[\"lr\"]\n",
        "with open(os.path.join(colab, f\"loss/MLPloss_hs{mlp_hidden_size}_lr{lr}.json\"), 'w') as f:\n",
        "    json.dump(loss, f)\n",
        "\n",
        "plt.figure(figsize=(10,5))\n",
        "plt.plot(loss[\"train\"], label='Train MSE')\n",
        "plt.plot(loss[\"val\"], label='Validation MSE')\n",
        "\n",
        "plt.title(f\"MLP hs = {mlp_hidden_size}\")\n",
        "plt.xlabel(\"Epoch\")\n",
        "plt.ylabel(\"MSE\")\n",
        "plt.legend()\n",
        "plt.show()\n",
        "\n",
        "print(\"Test MSE\", loss[\"test\"])"
      ],
      "metadata": {
        "colab": {
          "base_uri": "https://localhost:8080/",
          "height": 1000
        },
        "id": "V0-8cpkTmciy",
        "outputId": "6b71f286-2fb7-46e5-ca71-33382e17fcea"
      },
      "execution_count": 98,
      "outputs": [
        {
          "output_type": "stream",
          "name": "stdout",
          "text": [
            "Train starts!\n"
          ]
        },
        {
          "output_type": "stream",
          "name": "stderr",
          "text": [
            "100%|██████████| 93/93 [00:09<00:00, 10.22it/s]\n",
            "100%|██████████| 93/93 [00:09<00:00, 10.27it/s]\n",
            "100%|██████████| 93/93 [00:09<00:00, 10.26it/s]\n",
            "100%|██████████| 93/93 [00:08<00:00, 10.35it/s]\n",
            "100%|██████████| 93/93 [00:08<00:00, 10.47it/s]\n",
            "100%|██████████| 93/93 [00:09<00:00, 10.24it/s]\n",
            "100%|██████████| 93/93 [00:09<00:00, 10.27it/s]\n",
            "100%|██████████| 93/93 [00:09<00:00, 10.25it/s]\n",
            "100%|██████████| 93/93 [00:13<00:00,  6.73it/s]\n",
            "100%|██████████| 93/93 [00:25<00:00,  3.65it/s]\n",
            "100%|██████████| 93/93 [00:20<00:00,  4.45it/s]\n",
            "100%|██████████| 93/93 [00:21<00:00,  4.42it/s]\n",
            "100%|██████████| 93/93 [00:23<00:00,  4.03it/s]\n",
            "100%|██████████| 93/93 [00:23<00:00,  4.01it/s]\n",
            "100%|██████████| 93/93 [00:21<00:00,  4.33it/s]\n",
            "100%|██████████| 93/93 [00:21<00:00,  4.34it/s]\n",
            "100%|██████████| 93/93 [00:21<00:00,  4.33it/s]\n",
            "100%|██████████| 93/93 [00:22<00:00,  4.21it/s]\n",
            "100%|██████████| 93/93 [00:21<00:00,  4.36it/s]\n",
            "100%|██████████| 93/93 [00:21<00:00,  4.34it/s]\n",
            "100%|██████████| 93/93 [00:21<00:00,  4.36it/s]\n",
            "100%|██████████| 93/93 [00:21<00:00,  4.35it/s]\n",
            "100%|██████████| 93/93 [00:21<00:00,  4.37it/s]\n",
            "100%|██████████| 93/93 [00:21<00:00,  4.36it/s]\n",
            "100%|██████████| 93/93 [00:21<00:00,  4.31it/s]\n",
            "100%|██████████| 93/93 [00:21<00:00,  4.30it/s]\n",
            "100%|██████████| 93/93 [00:21<00:00,  4.34it/s]\n",
            "100%|██████████| 93/93 [00:21<00:00,  4.34it/s]\n",
            "100%|██████████| 93/93 [00:21<00:00,  4.33it/s]\n",
            "100%|██████████| 93/93 [00:21<00:00,  4.34it/s]\n"
          ]
        },
        {
          "output_type": "stream",
          "name": "stdout",
          "text": [
            "Run time [s]:  548.4784414768219\n",
            "Test starts!\n"
          ]
        },
        {
          "output_type": "stream",
          "name": "stderr",
          "text": [
            "100%|██████████| 9/9 [00:00<00:00, 69.90it/s]\n"
          ]
        },
        {
          "output_type": "stream",
          "name": "stdout",
          "text": [
            "Test MSE: 0.6885\n"
          ]
        },
        {
          "output_type": "display_data",
          "data": {
            "text/plain": [
              "<Figure size 720x360 with 1 Axes>"
            ],
            "image/png": "[encoded data removed]"
          },
          "metadata": {
            "needs_background": "light"
          }
        },
        {
          "output_type": "stream",
          "name": "stdout",
          "text": [
            "Test MSE [0.688547154267629]\n"
          ]
        }
      ]
    },
    {
      "cell_type": "code",
      "source": [
        "plt.figure(figsize=(10,5))\n",
        "plt.plot(loss[\"train\"][3:], label='Train MSE')\n",
        "plt.plot(loss[\"val\"][3:], label='Validation MSE')\n",
        "\n",
        "plt.title(f\"MLP hs = {mlp_hidden_size}\")\n",
        "plt.xlabel(\"Epoch\")\n",
        "plt.ylabel(\"MSE\")\n",
        "plt.legend()\n",
        "plt.show()"
      ],
      "metadata": {
        "colab": {
          "base_uri": "https://localhost:8080/",
          "height": 350
        },
        "id": "_-OLDNGcsaWe",
        "outputId": "58cdb82d-e484-4a10-8726-36cbb42250ef"
      },
      "execution_count": 102,
      "outputs": [
        {
          "output_type": "display_data",
          "data": {
            "text/plain": [
              "<Figure size 720x360 with 1 Axes>"
            ],
            "image/png": "[encoded data removed]"
          },
          "metadata": {
            "needs_background": "light"
          }
        }
      ]
    },
    {
      "cell_type": "code",
      "source": [
        "args = EasyDict({\n",
        "    \"batch_size\": 32,\n",
        "    \"mlp_hidden_size\": 77,\n",
        "    \"lr\": 1,\n",
        "    \"n_epochs\": 30,\n",
        "})\n",
        "\n",
        "loss, _ = train(**args)\n",
        "loss = test(loss, args[\"mlp_hidden_size\"], args[\"lr\"], args[\"batch_size\"])\n",
        "\n",
        "# Save\n",
        "mlp_hidden_size = args[\"mlp_hidden_size\"]\n",
        "lr = args[\"lr\"]\n",
        "with open(os.path.join(colab, f\"loss/MLPloss_hs{mlp_hidden_size}_lr{lr}.json\"), 'w') as f:\n",
        "    json.dump(loss, f)\n",
        "\n",
        "plt.figure(figsize=(10,5))\n",
        "plt.plot(loss[\"train\"], label='Train MSE')\n",
        "plt.plot(loss[\"val\"], label='Validation MSE')\n",
        "\n",
        "plt.title(f\"MLP hs = {mlp_hidden_size}\")\n",
        "plt.xlabel(\"Epoch\")\n",
        "plt.ylabel(\"MSE\")\n",
        "plt.legend()\n",
        "plt.show()\n",
        "\n",
        "print(\"Test MSE\", loss[\"test\"])"
      ],
      "metadata": {
        "colab": {
          "base_uri": "https://localhost:8080/",
          "height": 1000
        },
        "id": "lSsnE0tgmh_n",
        "outputId": "aa9c2efd-4c0c-4c9f-984b-0bfb5d2ab3fb"
      },
      "execution_count": 109,
      "outputs": [
        {
          "output_type": "stream",
          "name": "stdout",
          "text": [
            "Train starts!\n"
          ]
        },
        {
          "output_type": "stream",
          "name": "stderr",
          "text": [
            "100%|██████████| 93/93 [00:08<00:00, 11.36it/s]\n",
            "100%|██████████| 93/93 [00:08<00:00, 10.78it/s]\n",
            "100%|██████████| 93/93 [00:08<00:00, 11.24it/s]\n",
            "100%|██████████| 93/93 [00:08<00:00, 11.25it/s]\n",
            "100%|██████████| 93/93 [00:08<00:00, 11.44it/s]\n",
            "100%|██████████| 93/93 [00:08<00:00, 11.36it/s]\n",
            "100%|██████████| 93/93 [00:08<00:00, 10.38it/s]\n",
            "100%|██████████| 93/93 [00:08<00:00, 11.36it/s]\n",
            "100%|██████████| 93/93 [00:11<00:00,  7.92it/s]\n",
            "100%|██████████| 93/93 [00:18<00:00,  5.10it/s]\n",
            "100%|██████████| 93/93 [00:18<00:00,  4.97it/s]\n",
            "100%|██████████| 93/93 [00:24<00:00,  3.82it/s]\n",
            "100%|██████████| 93/93 [00:20<00:00,  4.49it/s]\n",
            "100%|██████████| 93/93 [00:20<00:00,  4.51it/s]\n",
            "100%|██████████| 93/93 [00:20<00:00,  4.48it/s]\n",
            "100%|██████████| 93/93 [00:20<00:00,  4.55it/s]\n",
            "100%|██████████| 93/93 [00:21<00:00,  4.39it/s]\n",
            "100%|██████████| 93/93 [00:21<00:00,  4.26it/s]\n",
            "100%|██████████| 93/93 [00:20<00:00,  4.53it/s]\n",
            "100%|██████████| 93/93 [00:20<00:00,  4.55it/s]\n",
            "100%|██████████| 93/93 [00:20<00:00,  4.54it/s]\n",
            "100%|██████████| 93/93 [00:20<00:00,  4.53it/s]\n",
            "100%|██████████| 93/93 [00:20<00:00,  4.54it/s]\n",
            "100%|██████████| 93/93 [00:20<00:00,  4.49it/s]\n",
            "100%|██████████| 93/93 [00:21<00:00,  4.40it/s]\n",
            "100%|██████████| 93/93 [00:20<00:00,  4.53it/s]\n",
            "100%|██████████| 93/93 [00:20<00:00,  4.50it/s]\n",
            "100%|██████████| 93/93 [00:20<00:00,  4.51it/s]\n",
            "100%|██████████| 93/93 [00:20<00:00,  4.52it/s]\n",
            "100%|██████████| 93/93 [00:21<00:00,  4.41it/s]\n"
          ]
        },
        {
          "output_type": "stream",
          "name": "stdout",
          "text": [
            "Run time [s]:  517.5711131095886\n",
            "Test starts!\n"
          ]
        },
        {
          "output_type": "stream",
          "name": "stderr",
          "text": [
            "100%|██████████| 9/9 [00:00<00:00, 64.72it/s]\n"
          ]
        },
        {
          "output_type": "stream",
          "name": "stdout",
          "text": [
            "Test MSE: 18.5481\n"
          ]
        },
        {
          "output_type": "display_data",
          "data": {
            "text/plain": [
              "<Figure size 720x360 with 1 Axes>"
            ],
            "image/png": "[encoded data removed]"
          },
          "metadata": {
            "needs_background": "light"
          }
        },
        {
          "output_type": "stream",
          "name": "stdout",
          "text": [
            "Test MSE [18.548056072658962]\n"
          ]
        }
      ]
    },
    {
      "cell_type": "code",
      "source": [
        "plt.figure(figsize=(10,5))\n",
        "plt.plot(loss[\"train\"][:3], label='Train MSE')\n",
        "plt.plot(loss[\"val\"][:3], label='Validation MSE')\n",
        "\n",
        "plt.title(f\"MLP hs = {mlp_hidden_size}\")\n",
        "plt.xlabel(\"Epoch\")\n",
        "plt.ylabel(\"MSE\")\n",
        "plt.legend()\n",
        "plt.show()"
      ],
      "metadata": {
        "colab": {
          "base_uri": "https://localhost:8080/",
          "height": 350
        },
        "id": "qrJ-CYqnvr9H",
        "outputId": "5fd185c7-57e8-4755-842d-409ac70ed66a"
      },
      "execution_count": 120,
      "outputs": [
        {
          "output_type": "display_data",
          "data": {
            "text/plain": [
              "<Figure size 720x360 with 1 Axes>"
            ],
            "image/png": "[encoded data removed]"
          },
          "metadata": {
            "needs_background": "light"
          }
        }
      ]
    },
    {
      "cell_type": "code",
      "source": [
        "args = EasyDict({\n",
        "    \"batch_size\": 32,\n",
        "    \"mlp_hidden_size\": 144,\n",
        "    \"lr\": 0.2,\n",
        "    \"n_epochs\": 30,\n",
        "})\n",
        "\n",
        "loss, _ = train(**args)\n",
        "loss = test(loss, args[\"mlp_hidden_size\"], args[\"lr\"], args[\"batch_size\"])\n",
        "\n",
        "# Save\n",
        "mlp_hidden_size = args[\"mlp_hidden_size\"]\n",
        "lr = args[\"lr\"]\n",
        "with open(os.path.join(colab, f\"loss/MLPloss_hs{mlp_hidden_size}_lr{lr}.json\"), 'w') as f:\n",
        "    json.dump(loss, f)\n",
        "\n",
        "plt.figure(figsize=(10,5))\n",
        "plt.plot(loss[\"train\"], label='Train MSE')\n",
        "plt.plot(loss[\"val\"], label='Validation MSE')\n",
        "\n",
        "plt.title(f\"MLP hs = {mlp_hidden_size}\")\n",
        "plt.xlabel(\"Epoch\")\n",
        "plt.ylabel(\"MSE\")\n",
        "plt.legend()\n",
        "plt.show()\n",
        "\n",
        "print(\"Test MSE\", loss[\"test\"])"
      ],
      "metadata": {
        "colab": {
          "base_uri": "https://localhost:8080/"
        },
        "id": "y6XXkYbIq7au",
        "outputId": "9468f51b-c14f-4249-f450-982e7f1de1a7"
      },
      "execution_count": null,
      "outputs": [
        {
          "output_type": "stream",
          "name": "stdout",
          "text": [
            "Train starts!\n"
          ]
        },
        {
          "output_type": "stream",
          "name": "stderr",
          "text": [
            "100%|██████████| 93/93 [00:18<00:00,  4.91it/s]\n",
            "100%|██████████| 93/93 [00:19<00:00,  4.77it/s]\n",
            "100%|██████████| 93/93 [00:16<00:00,  5.55it/s]\n",
            "100%|██████████| 93/93 [00:16<00:00,  5.79it/s]\n",
            " 32%|███▏      | 30/93 [00:05<00:10,  5.84it/s]"
          ]
        }
      ]
    },
    {
      "cell_type": "code",
      "source": [
        "plt.figure(figsize=(10,5))\n",
        "plt.plot(loss[\"train\"][:3], label='Train MSE')\n",
        "plt.plot(loss[\"val\"][:3], label='Validation MSE')\n",
        "\n",
        "plt.title(f\"MLP hs = {mlp_hidden_size}\")\n",
        "plt.xlabel(\"Epoch\")\n",
        "plt.ylabel(\"MSE\")\n",
        "plt.legend()\n",
        "plt.show()"
      ],
      "metadata": {
        "id": "tIecbY8uwS0k"
      },
      "execution_count": null,
      "outputs": []
    }
  ]
}