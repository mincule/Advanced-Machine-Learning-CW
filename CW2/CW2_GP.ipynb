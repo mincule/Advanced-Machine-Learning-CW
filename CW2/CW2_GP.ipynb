{
 "cells": [
  {
   "cell_type": "code",
   "execution_count": 1,
   "id": "0f49245e-f9b5-4fba-95ff-2383a3349d5f",
   "metadata": {},
   "outputs": [],
   "source": [
    "import pandas as pd\n",
    "import numpy as np\n",
    "from scipy.linalg import kron\n",
    "from scipy.spatial.distance import cdist\n",
    "from sklearn.model_selection import train_test_split"
   ]
  },
  {
   "cell_type": "code",
   "execution_count": 37,
   "id": "b5947c53-1f00-4d74-bbd1-8889ae7dbd88",
   "metadata": {},
   "outputs": [],
   "source": [
    "seed = 1\n",
    "np.random.seed(seed)"
   ]
  },
  {
   "cell_type": "markdown",
   "id": "cc58ffbe-5a14-4fe4-8e77-cbcd00fb0807",
   "metadata": {},
   "source": [
    "# Data: SARCOS\n",
    "로봇팔 데이터 SARCOS 데이터 세트의 Joint positions 7개, Velocities 7개, Accelerations 7개를 이용해, **Torque의 7개 칼럼을 예측**한다."
   ]
  },
  {
   "cell_type": "code",
   "execution_count": 41,
   "id": "90b0a0d9-02a7-401f-873b-0a0267dd4315",
   "metadata": {},
   "outputs": [
    {
     "name": "stdout",
     "output_type": "stream",
     "text": [
      "SARCOS data size\n",
      "Train (1800, 21) (1800, 7)\n",
      "Valid (200, 21) (200, 7)\n",
      "Test (200, 21) (200, 7)\n"
     ]
    }
   ],
   "source": [
    "train_data = pd.read_csv('./data/SARCOSTst.csv', header=None)[:2000]\n",
    "test_data = pd.read_csv('./data/SARCOSTrn.csv', header=None)[:200]\n",
    "\n",
    "X_train, X_valid, y_train, y_valid = train_test_split(train_data.iloc[:,:-7], train_data.iloc[:,21:], test_size=0.1, random_state=seed)\n",
    "X_test, y_test = test_data.iloc[:,:-7], test_data.iloc[:,21:]\n",
    "\n",
    "print(\"SARCOS data size\")\n",
    "print(\"Train\", X_train.shape, y_train.shape)\n",
    "print(\"Valid\", X_valid.shape, y_valid.shape)\n",
    "print(\"Test\", X_test.shape, y_test.shape)"
   ]
  },
  {
   "cell_type": "markdown",
   "id": "e8d36382-7c2f-4df0-9d9b-be3abc67c78f",
   "metadata": {},
   "source": [
    "# Kernel\n",
    "- Linear inner product kernel\n",
    "$$ k(x_1,x_2) = \\sigma_0 + x_1 \\cdot x_2 $$\n",
    "- Non-linear Gaussian kernel\n",
    "$$ k(x_1,x_2) = \\exp(-{1 \\over \\sigma_k^2}\\left|x_1-x_2\\right|^2)$$"
   ]
  },
  {
   "cell_type": "code",
   "execution_count": 6,
   "id": "843ede88-d86d-43b7-b2b9-0a643f87f945",
   "metadata": {},
   "outputs": [],
   "source": [
    "# Linear inner product kernel\n",
    "class LinearKernel:\n",
    "    \"\"\"\n",
    "    Input\n",
    "    -----\n",
    "    X1: (N1, D)\n",
    "    X2: (N2, D)\n",
    "    \n",
    "    Output\n",
    "    ------\n",
    "    kernal matrix: (N1, N2)\n",
    "    \n",
    "    \"\"\"\n",
    "    def __init__(self, sigma_0=1.0):\n",
    "        self.sigma_0 = sigma_0\n",
    "    \n",
    "    def __call__(self, X1, X2):\n",
    "        return self.sigma_0 + X1 @ X2.T"
   ]
  },
  {
   "cell_type": "code",
   "execution_count": 7,
   "id": "c9571af7-25ae-4184-9098-9090578a953c",
   "metadata": {},
   "outputs": [],
   "source": [
    "from scipy.spatial.distance import cdist\n",
    "\n",
    "# Non-linear Gaussian kernel\n",
    "class GaussianKernel:\n",
    "    \"\"\"\n",
    "    Input\n",
    "    -----\n",
    "    X1: (N1, D)\n",
    "    X2: (N2, D)\n",
    "    \n",
    "    Output\n",
    "    ------\n",
    "    kernal matrix: (N1, N2)\n",
    "    \"\"\"\n",
    "    def __init__(self, sigma_k=1.0):\n",
    "        self.sigma_k = sigma_k\n",
    "    \n",
    "    def __call__(self, X1, X2):\n",
    "        dist = cdist(X1, X2, 'sqeuclidean')\n",
    "        return np.exp(-dist/self.sigma_k**2)"
   ]
  },
  {
   "cell_type": "code",
   "execution_count": 8,
   "id": "eddd2eed-8b97-4cc0-ba68-fb57d97df033",
   "metadata": {},
   "outputs": [
    {
     "name": "stdout",
     "output_type": "stream",
     "text": [
      "linear\n",
      "[[ 7.  7.]\n",
      " [15. 15.]]\n",
      "non-linear\n",
      "[[0.36787944 0.36787944]\n",
      " [0.00673795 0.00673795]]\n"
     ]
    }
   ],
   "source": [
    "# check\n",
    "kernel = LinearKernel()\n",
    "\n",
    "a = np.array([[1, 2],\n",
    "              [3, 4]])\n",
    "b = np.array([[2, 2],\n",
    "              [2, 2]])\n",
    "print(\"linear\")\n",
    "print(kernel(a,b))\n",
    "\n",
    "gkernel = GaussianKernel()\n",
    "print(\"non-linear\")\n",
    "print(gkernel(a,b))"
   ]
  },
  {
   "cell_type": "markdown",
   "id": "ed65d205-ca2c-40cb-962a-745dc9d94430",
   "metadata": {},
   "source": [
    "# Multi-Output Gaussian Process Regression\n",
    "Predictive mean:\n",
    "$$\n",
    "\\begin{equation}\n",
    "\\begin{align}\n",
    "vec(M*)= (C_{DD}\\otimes_{kron}K^*_{N_{test}N_{train}})(C_{DD}\\otimes_{kron}K_{N_{train}N_{train}}+\\Sigma_{DD}\\otimesI_{N_{train}N_{train}})^{-1}vec(Y_{N_{train}D})\n",
    "\\end{align}\n",
    "\\end{equation}\n",
    "$$"
   ]
  },
  {
   "cell_type": "code",
   "execution_count": 12,
   "id": "b92de9a0-afeb-45e4-964b-ee5157f773a6",
   "metadata": {},
   "outputs": [],
   "source": [
    "# utils\n",
    "def vec(v):\n",
    "    \"\"\"\n",
    "    [[a,a'],      [[a],\n",
    "     [b,b'],  ->   [b],\n",
    "     [c,c']]       [c],\n",
    "                   [a'],\n",
    "                   [b'],\n",
    "                   [c']]\n",
    "    \"\"\"\n",
    "    return np.reshape(v.T, (-1,1))\n",
    "\n",
    "def unvec(v, r, c):\n",
    "    return np.reshape(v, (c,r)).T"
   ]
  },
  {
   "cell_type": "code",
   "execution_count": 10,
   "id": "93584a10-a598-4da8-9a2b-d50353ac7282",
   "metadata": {},
   "outputs": [
    {
     "name": "stdout",
     "output_type": "stream",
     "text": [
      "[[  2  22 222]\n",
      " [  3  33 333]]\n",
      "[[  2]\n",
      " [  3]\n",
      " [ 22]\n",
      " [ 33]\n",
      " [222]\n",
      " [333]]\n"
     ]
    }
   ],
   "source": [
    "# a = np.array([[2,22,222],\n",
    "#               [3,33,333]])\n",
    "# r, c = a.shape\n",
    "# print(a)\n",
    "# aa = np.reshape(a.T,(-1,1))\n",
    "# print(aa)"
   ]
  },
  {
   "cell_type": "code",
   "execution_count": 176,
   "id": "9c070357-11a3-492b-98d7-9023ed0509c5",
   "metadata": {},
   "outputs": [
    {
     "data": {
      "text/plain": [
       "array([[  2,  22, 222],\n",
       "       [  3,  33, 333]])"
      ]
     },
     "execution_count": 176,
     "metadata": {},
     "output_type": "execute_result"
    }
   ],
   "source": [
    "# np.reshape(aa, (c,r)).T"
   ]
  },
  {
   "cell_type": "code",
   "execution_count": 178,
   "id": "507e8e1d-8e09-438c-bd2f-d4bf20c91777",
   "metadata": {},
   "outputs": [
    {
     "name": "stdout",
     "output_type": "stream",
     "text": [
      "[[ 2 22]\n",
      " [ 3 33]\n",
      " [ 4 44]]\n",
      "[[ 2]\n",
      " [ 3]\n",
      " [ 4]\n",
      " [22]\n",
      " [33]\n",
      " [44]]\n",
      "[[ 2 22]\n",
      " [ 3 33]\n",
      " [ 4 44]]\n"
     ]
    }
   ],
   "source": [
    "# a = np.array([[2,22],\n",
    "#               [3,33],\n",
    "#               [4,44]])\n",
    "# print(a)\n",
    "# r, c = a.shape\n",
    "# aa = vec(a)\n",
    "# print(aa)\n",
    "# print(unvec(aa, r, c))\n"
   ]
  },
  {
   "cell_type": "code",
   "execution_count": null,
   "id": "d066d163-009c-4012-a7e7-71dbbbe6a92c",
   "metadata": {},
   "outputs": [],
   "source": []
  },
  {
   "cell_type": "code",
   "execution_count": 11,
   "id": "540b0a6c-29ef-4d77-8e92-9330cc298ac2",
   "metadata": {},
   "outputs": [],
   "source": [
    "class MOGPR:\n",
    "    \"\"\"\n",
    "    Input\n",
    "    -----\n",
    "    Xtrain: (N_train, D)\n",
    "    ytrain: (N_train, D)\n",
    "    kernel: Hyperparameter\n",
    "    coregionalisation_matrix: Identity matrix\n",
    "    sigma: Hyperparameter\n",
    "    \n",
    "    Output\n",
    "    ------\n",
    "    mean: (N_test, D)\n",
    "    \"\"\"\n",
    "    def __init__(self, Xtrain, ytrain, kernel, coregionalisation_matrix=\"I\",  sigma=1.0):\n",
    "        self.X_train = np.array(Xtrain)\n",
    "        self.y_train = np.array(ytrain)\n",
    "        self.kernel = kernel\n",
    "        self.C = coregionalisation_matrix\n",
    "        self.sigma = sigma\n",
    "        self._predictive_distribution = None\n",
    "    \n",
    "    def predict(self, Xtest):\n",
    "        Xtest = np.array(Xtest)\n",
    "        N, D = self.y_train.shape\n",
    "        if self.C == \"I\":\n",
    "            self.C = np.identity(D)\n",
    "        \n",
    "        Sigma = np.diag(np.full(D,self.sigma))\n",
    "        \n",
    "        # Kernel matrices\n",
    "        K = self.kernel(self.X_train, self.X_train) # (N_train, N_train)\n",
    "        K_star = self.kernel(Xtest, self.X_train) # (N_test, N_train)\n",
    "        K_star_2 = self.kernel(Xtest, Xtest) # (N_test, N_test)\n",
    "        \n",
    "        # Block matrices\n",
    "        CK = kron(self.C, K)\n",
    "        CK_star = kron(self.C, K_star)\n",
    "        CK_starT = kron(self.C, K_star.T)\n",
    "        CK_star_2 = kron(self.C, K_star_2)\n",
    "        Sigma_block = kron(Sigma, np.identity(N))\n",
    "        \n",
    "        # Predictive distribution\n",
    "        Common = CK_star @ np.linalg.inv(CK + Sigma_block)\n",
    "        mean = Common @ vec(self.y_train)\n",
    "        cov = CK_star_2 - Common @ CK_starT\n",
    "        var = np.diag(cov)\n",
    "#         mean = np.linalg.inv(CK + Sigma_block) @ vec(self.y_train)\n",
    "#         mean = CK_star @ mean\n",
    "        \n",
    "        mean = unvec(mean, D, Xtest.shape[0]).T\n",
    "        self._predictive_distribution = {\"mean\": mean, \"cov\": cov, \"var\": var}\n",
    "        return mean"
   ]
  },
  {
   "cell_type": "code",
   "execution_count": 158,
   "id": "8b9b04af-50e6-4ea0-88ee-6c4dd956795a",
   "metadata": {},
   "outputs": [
    {
     "name": "stdout",
     "output_type": "stream",
     "text": [
      "800 7\n",
      "(7, 7)\n",
      "(7, 7)\n",
      "(5600, 5600)\n"
     ]
    }
   ],
   "source": [
    "# N, D = y_train.shape\n",
    "# C = np.identity(D)\n",
    "\n",
    "# Sigma = np.diag(np.full(D,1.0))\n",
    "\n",
    "# print(N, D)\n",
    "# print(C.shape)\n",
    "# print(Sigma.shape)\n",
    "# Sigma_block = kron(Sigma, np.identity(N))\n",
    "# print(Sigma_block.shape)"
   ]
  },
  {
   "cell_type": "markdown",
   "id": "46111ff9-fb4b-45fd-945e-1bb9542cd4d5",
   "metadata": {},
   "source": [
    "# Full MOGP"
   ]
  },
  {
   "cell_type": "code",
   "execution_count": 160,
   "id": "58dad1b1-c033-4eb5-9ea2-c8a780d275d8",
   "metadata": {},
   "outputs": [
    {
     "name": "stdout",
     "output_type": "stream",
     "text": [
      "Run time [s]:  3.2480571269989014\n"
     ]
    }
   ],
   "source": [
    "import time\n",
    "\n",
    "model = MOGPR(X_train, y_train, GaussianKernel())\n",
    "\n",
    "start = time.time()\n",
    "\n",
    "# My Code\n",
    "model.predict(X_test)\n",
    "\n",
    "end = time.time()\n",
    "print(\"Run time [s]: \",end-start)"
   ]
  },
  {
   "cell_type": "code",
   "execution_count": null,
   "id": "6ed0a908-4ce2-43ec-aeb5-6dae18dfb104",
   "metadata": {},
   "outputs": [],
   "source": []
  },
  {
   "cell_type": "code",
   "execution_count": 8,
   "id": "2d1727df-38eb-4d6b-815a-cf4f46cbac13",
   "metadata": {},
   "outputs": [
    {
     "name": "stdout",
     "output_type": "stream",
     "text": [
      "Run time [s]:  80.82301592826843\n"
     ]
    }
   ],
   "source": [
    "import time\n",
    "\n",
    "model = MOGPR(X_train, y_train, LinearKernel())\n",
    "\n",
    "start = time.time()\n",
    "\n",
    "# My Code\n",
    "model.predict(X_test)\n",
    "\n",
    "end = time.time()\n",
    "print(\"Run time [s]: \",end-start)"
   ]
  },
  {
   "cell_type": "code",
   "execution_count": 11,
   "id": "b2d3a6fe-5479-4374-bddf-989973864188",
   "metadata": {},
   "outputs": [
    {
     "name": "stdout",
     "output_type": "stream",
     "text": [
      "Run time [s]:  105.01352000236511\n"
     ]
    }
   ],
   "source": [
    "import time\n",
    "\n",
    "model = MOGPR(X_train, y_train, GaussianKernel())\n",
    "\n",
    "start = time.time()\n",
    "\n",
    "# My Code\n",
    "model.predict(X_test)\n",
    "\n",
    "end = time.time()\n",
    "print(\"Run time [s]: \",end-start)"
   ]
  },
  {
   "cell_type": "code",
   "execution_count": null,
   "id": "3e2d386e-9d5f-4df9-bcc4-4901e22e5fdf",
   "metadata": {},
   "outputs": [],
   "source": [
    "model._predictive_distribution[\"mean\"].shape"
   ]
  },
  {
   "cell_type": "code",
   "execution_count": null,
   "id": "bbd812a3-7cc2-4505-8947-8c4710cc6016",
   "metadata": {},
   "outputs": [],
   "source": [
    "print(model._predictive_distribution[\"cov\"].shape)\n",
    "print(model._predictive_distribution[\"var\"].shape)"
   ]
  },
  {
   "cell_type": "code",
   "execution_count": 128,
   "id": "6be0aa66-f4bd-406a-8f96-513efa986376",
   "metadata": {},
   "outputs": [
    {
     "name": "stdout",
     "output_type": "stream",
     "text": [
      "[[  2  22 222]\n",
      " [  3  33 333]]\n"
     ]
    },
    {
     "data": {
      "text/plain": [
       "array([ 2, 33])"
      ]
     },
     "execution_count": 128,
     "metadata": {},
     "output_type": "execute_result"
    }
   ],
   "source": [
    "# a = np.array([[2,22,222],\n",
    "#               [3,33,333]])\n",
    "# print(a)\n",
    "# np.diag(a)"
   ]
  },
  {
   "cell_type": "code",
   "execution_count": 94,
   "id": "29caac93-1d73-4c11-ac85-f422c72efc93",
   "metadata": {},
   "outputs": [
    {
     "data": {
      "text/plain": [
       "(800, 800)"
      ]
     },
     "execution_count": 94,
     "metadata": {},
     "output_type": "execute_result"
    }
   ],
   "source": [
    "# gkernel = GaussianKernel()\n",
    "# gkernel(X_train, X_train).shape"
   ]
  },
  {
   "cell_type": "code",
   "execution_count": 100,
   "id": "cfdc7dbf-a401-4514-bbcf-86b5bc381ccd",
   "metadata": {},
   "outputs": [
    {
     "name": "stdout",
     "output_type": "stream",
     "text": [
      "[[1. 0. 0.]\n",
      " [0. 1. 0.]\n",
      " [0. 0. 1.]]\n",
      "[[1 2 3]\n",
      " [4 5 6]]\n",
      "[[1. 0. 0. 0. 0. 0.]\n",
      " [0. 1. 0. 0. 0. 0.]\n",
      " [0. 0. 1. 0. 0. 0.]\n",
      " [0. 0. 0. 1. 2. 3.]\n",
      " [0. 0. 0. 4. 5. 6.]]\n",
      "[[1. 2. 3. 0. 0. 0. 0. 0. 0.]\n",
      " [4. 5. 6. 0. 0. 0. 0. 0. 0.]\n",
      " [0. 0. 0. 1. 2. 3. 0. 0. 0.]\n",
      " [0. 0. 0. 4. 5. 6. 0. 0. 0.]\n",
      " [0. 0. 0. 0. 0. 0. 1. 2. 3.]\n",
      " [0. 0. 0. 0. 0. 0. 4. 5. 6.]]\n"
     ]
    }
   ],
   "source": [
    "# from scipy.linalg import block_diag, kron\n",
    "# I_D = np.identity(3)\n",
    "# A = np.array([[1,2,3],\n",
    "#               [4,5,6]])\n",
    "# print(I_D)\n",
    "# print(A)\n",
    "# print(block_diag(I_D, A))\n",
    "# print(kron(I_D,A))"
   ]
  },
  {
   "cell_type": "markdown",
   "id": "60016836-84d2-41dc-9c83-3aaf0b784c7d",
   "metadata": {},
   "source": [
    "# Subset of Regressors approximation"
   ]
  },
  {
   "cell_type": "code",
   "execution_count": 40,
   "id": "e4afabc7-c5fb-438e-a8d8-ea2d5734ac4e",
   "metadata": {},
   "outputs": [],
   "source": [
    "class SR_MOGPR:\n",
    "    \"\"\"\n",
    "    From training set, it produces inducing inputs and get an approximate predictive dist.\n",
    "    \n",
    "    Input\n",
    "    -----\n",
    "    Xtrain: (N_train, D)\n",
    "    ytrain: (N_train, D)\n",
    "    kernel: Hyperparameter\n",
    "    B: (float) Ratio of inducing inputs to Xtrain, Hyperparameter\n",
    "    coregionalisation_matrix: Identity matrix\n",
    "    sigma: Hyperparameter\n",
    "    \n",
    "    Output\n",
    "    ------\n",
    "    mean: (N_test, D)\n",
    "    \"\"\"\n",
    "    def __init__(self, Xtrain, ytrain, kernel, B=0.1, coregionalisation_matrix=\"I\",  sigma=1.0):\n",
    "        self.X_train = np.array(Xtrain)\n",
    "        self.y_train = np.array(ytrain)\n",
    "        self.kernel = kernel\n",
    "        self.B = B\n",
    "        self.C = coregionalisation_matrix\n",
    "        self.sigma = sigma\n",
    "        self._predictive_distribution = None\n",
    "        \n",
    "        self.Zx = None\n",
    "        self.Zy = None\n",
    "        \n",
    "    def predict(self, Xtest):\n",
    "        Xtest = np.array(Xtest)\n",
    "        N, D = self.y_train.shape\n",
    "        if self.C == \"I\":\n",
    "            self.C = np.identity(D)\n",
    "        \n",
    "        Sigma = np.diag(np.full(D,self.sigma))\n",
    "        \n",
    "        # Select inducing inputs - M = N_train*B\n",
    "        idx = np.array(np.random.choice(self.X_train.shape[0], int(self.X_train.shape[0]*self.B), replace=False))\n",
    "        self.Zx = np.array(self.X_train[idx])\n",
    "        self.Zy = np.array(self.y_train[idx])\n",
    "        \n",
    "        # Approximate kernel matrices\n",
    "        K_bb = self.kernel(self.Zx, self.Zx) # (M, M)\n",
    "        K_xb = self.kernel(self.X_train, self.Zx) # (N_train, M)\n",
    "        K_starb = self.kernel(Xtest, self.Zx) # (N_test, M)\n",
    "        K_star_2 = self.kernel(Xtest, Xtest) # (N_test, N_test)\n",
    "        \n",
    "        KtK = K_xb.T @ K_xb # (M, M)\n",
    "        \n",
    "        # Block matrices\n",
    "        CK_starb = kron(self.C, K_starb) # (D*N_test, DM)\n",
    "        CK_bstar = kron(self.C, K_starb.T) # (DM, D*N_test)\n",
    "        CKtK = kron(self.C, KtK) # (DM, DM)\n",
    "        CK_star_2 = kron(self.C, K_star_2) # (D*N_test, D*N_test)\n",
    "        Sigma_block = kron(Sigma, K_bb)\n",
    "        inverse_block = np.linalg.inv(CKtK + Sigma_block)\n",
    "        \n",
    "        # Predictive distribution\n",
    "        mean = inverse_block @ vec(K_xb.T @ self.y_train) # (DM, 1)\n",
    "        mean = CK_starb @ mean # (D*N_test,1)\n",
    "        cov = CK_star_2 - CK_starb @ inverse_block @ CK_bstar\n",
    "        var = np.diag(cov)\n",
    "        \n",
    "        mean = unvec(mean, D, Xtest.shape[0]).T\n",
    "        self._predictive_distribution = {\"mean\": mean, \"cov\": cov, \"var\": var}\n",
    "        return mean"
   ]
  },
  {
   "cell_type": "code",
   "execution_count": 42,
   "id": "564da4c2-bc69-4e6f-a714-1c0d9c6dd908",
   "metadata": {},
   "outputs": [
    {
     "name": "stdout",
     "output_type": "stream",
     "text": [
      "Run time [s]:  0.17807674407958984\n"
     ]
    }
   ],
   "source": [
    "import time\n",
    "\n",
    "model = SR_MOGPR(X_train, y_train, GaussianKernel())\n",
    "\n",
    "start = time.time()\n",
    "\n",
    "# My Code\n",
    "model.predict(X_test)\n",
    "\n",
    "end = time.time()\n",
    "print(\"Run time [s]: \",end-start)"
   ]
  },
  {
   "cell_type": "code",
   "execution_count": 43,
   "id": "af7a930d-8f66-4a87-81ca-986baad91c79",
   "metadata": {},
   "outputs": [
    {
     "name": "stdout",
     "output_type": "stream",
     "text": [
      "Run time [s]:  30.328718900680542\n"
     ]
    }
   ],
   "source": [
    "import time\n",
    "\n",
    "model = MOGPR(X_train, y_train, GaussianKernel())\n",
    "\n",
    "start = time.time()\n",
    "\n",
    "# My Code\n",
    "model.predict(X_test)\n",
    "\n",
    "end = time.time()\n",
    "print(\"Run time [s]: \",end-start)"
   ]
  },
  {
   "cell_type": "code",
   "execution_count": null,
   "id": "cfa80b1a-b7ed-4476-9f90-256482885b82",
   "metadata": {},
   "outputs": [],
   "source": []
  }
 ],
 "metadata": {
  "kernelspec": {
   "display_name": "Python 3",
   "language": "python",
   "name": "python3"
  },
  "language_info": {
   "codemirror_mode": {
    "name": "ipython",
    "version": 3
   },
   "file_extension": ".py",
   "mimetype": "text/x-python",
   "name": "python",
   "nbconvert_exporter": "python",
   "pygments_lexer": "ipython3",
   "version": "3.8.10"
  }
 },
 "nbformat": 4,
 "nbformat_minor": 5
}
