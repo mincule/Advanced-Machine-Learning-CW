{
 "cells": [
  {
   "cell_type": "code",
   "execution_count": 1,
   "id": "d0cdb534-877c-4808-b773-a66f386f3ae4",
   "metadata": {},
   "outputs": [
    {
     "name": "stdout",
     "output_type": "stream",
     "text": [
      "/Users/ming/Desktop/iMac_Drive/코스웍/2022 고급기계학습주제 (김광인)/과제/CW2\n",
      "['.DS_Store', 'Untitled.ipynb', 'CW2.pdf', 'model', '.ipynb_checkpoints', 'CW2_GP.ipynb', 'data']\n"
     ]
    }
   ],
   "source": [
    "import os\n",
    "\n",
    "#현재 폴더 경로; 작업 폴더 기준\n",
    "print(os.getcwd())\n",
    "print(os.listdir(os.getcwd()))\n",
    "# os.chdir(\"Desktop/iMac_Drive/코스웍/2022 고급기계학습주제 (김광인)/과제/CW2\") # Change path"
   ]
  },
  {
   "cell_type": "code",
   "execution_count": 3,
   "id": "f7bcc2ed-ca60-425c-b07b-4c22caa739b1",
   "metadata": {},
   "outputs": [],
   "source": [
    "from model.gaussian_process import MOGPR, SR_MOGPR\n",
    "from model.kernel import LinearKernel, GaussianKernel"
   ]
  },
  {
   "cell_type": "code",
   "execution_count": 8,
   "id": "239e6ec3-23ec-499a-8c66-c00d2eecbb69",
   "metadata": {},
   "outputs": [],
   "source": [
    "import pandas as pd\n",
    "import numpy as np\n",
    "import time\n",
    "from scipy.linalg import kron\n",
    "from scipy.spatial.distance import cdist\n",
    "from sklearn.model_selection import train_test_split\n",
    "from sklearn.metrics import mean_squared_error"
   ]
  },
  {
   "cell_type": "code",
   "execution_count": 6,
   "id": "9250fbfe-4268-416a-9ec6-0487bb2e0d16",
   "metadata": {},
   "outputs": [],
   "source": [
    "# Fix seed\n",
    "seed = 1\n",
    "np.random.seed(seed)"
   ]
  },
  {
   "cell_type": "markdown",
   "id": "51672a16-c04b-4209-93bc-b3319e353568",
   "metadata": {},
   "source": [
    "## Data: SARCOS\n",
    "SARCOS is a Robot arm dataset. It aims to predict 7 Torque columns given 7 Joint positions, 7 Velocities, 7 Accelerations."
   ]
  },
  {
   "cell_type": "code",
   "execution_count": 14,
   "id": "3c6f8273-ac12-4673-a1e2-4576232709cb",
   "metadata": {},
   "outputs": [
    {
     "name": "stdout",
     "output_type": "stream",
     "text": [
      "SARCOS data size\n",
      "Train (39484, 21) (39484, 7)\n",
      "Test (5000, 21) (5000, 7)\n"
     ]
    }
   ],
   "source": [
    "train_data = pd.read_csv('./data/SARCOSTst.csv', header=None)\n",
    "test_data = pd.read_csv('./data/SARCOSTrn.csv', header=None)\n",
    "\n",
    "X_train, y_train = train_data.iloc[:,:-7], train_data.iloc[:,21:]\n",
    "# X_train, X_valid, y_train, y_valid = train_test_split(train_data.iloc[:,:-7], train_data.iloc[:,21:], test_size=0.1, random_state=seed)\n",
    "X_test, y_test = test_data.iloc[:,:-7], test_data.iloc[:,21:]\n",
    "\n",
    "print(\"SARCOS data size\")\n",
    "print(\"Train\", X_train.shape, y_train.shape)\n",
    "# print(\"Valid\", X_valid.shape, y_valid.shape)\n",
    "print(\"Test\", X_test.shape, y_test.shape)"
   ]
  },
  {
   "cell_type": "markdown",
   "id": "a6522919-d043-432d-854c-ac5538ff5e78",
   "metadata": {},
   "source": [
    "## Kernel\n",
    "We use below linear and non-linear kernels:\n",
    "- Linear inner product kernel\n",
    "$$ k(x_1,x_2) = \\sigma_0 + x_1 \\cdot x_2 $$\n",
    "- Non-linear Gaussian kernel\n",
    "$$ k(x_1,x_2) = \\exp(-{1 \\over \\sigma_k^2}\\left|x_1-x_2\\right|^2)$$"
   ]
  },
  {
   "cell_type": "markdown",
   "id": "ba51c0c4-b850-4c45-9ff7-29a393eef1cd",
   "metadata": {},
   "source": [
    "# 1. Comparison of Exact MOGPR and Sparse MOGPR\n",
    "Here, we would see the time complexity of two algorithms. Obviously, __Sparse MOGPR is better.__<br>\n",
    "Both use __partial datasets__ due to time and memory limitations"
   ]
  },
  {
   "cell_type": "code",
   "execution_count": 15,
   "id": "eb430875-6904-4e5d-97e3-348b8152bfcf",
   "metadata": {},
   "outputs": [
    {
     "name": "stdout",
     "output_type": "stream",
     "text": [
      "partial SARCOS data size\n",
      "Train (2000, 21) (2000, 7)\n",
      "Test (500, 21) (500, 7)\n"
     ]
    }
   ],
   "source": [
    "pX_train = X_train[:2000]\n",
    "py_train = y_train[:2000]\n",
    "pX_test = X_test[:500]\n",
    "py_test = y_test[:500]\n",
    "\n",
    "print(\"partial SARCOS data size\")\n",
    "print(\"Train\", pX_train.shape, py_train.shape)\n",
    "print(\"Test\", pX_test.shape, py_test.shape)"
   ]
  },
  {
   "cell_type": "code",
   "execution_count": null,
   "id": "c9f36861-3079-4f81-9e57-47da23fce591",
   "metadata": {},
   "outputs": [],
   "source": [
    "full_model = SR_MOGPR(pX_train, py_train, GaussianKernel())\n",
    "\n",
    "start = time.time()\n",
    "\n",
    "# My Code\n",
    "y_predict = full_model.predict(pX_test)\n",
    "\n",
    "end = time.time()\n",
    "print(\"Run time [s]: \",end-start)"
   ]
  }
 ],
 "metadata": {
  "kernelspec": {
   "display_name": "Python 3",
   "language": "python",
   "name": "python3"
  },
  "language_info": {
   "codemirror_mode": {
    "name": "ipython",
    "version": 3
   },
   "file_extension": ".py",
   "mimetype": "text/x-python",
   "name": "python",
   "nbconvert_exporter": "python",
   "pygments_lexer": "ipython3",
   "version": "3.8.10"
  }
 },
 "nbformat": 4,
 "nbformat_minor": 5
}
