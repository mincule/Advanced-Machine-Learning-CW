{
 "cells": [
  {
   "cell_type": "code",
   "execution_count": 1,
   "id": "d0cdb534-877c-4808-b773-a66f386f3ae4",
   "metadata": {},
   "outputs": [
    {
     "name": "stdout",
     "output_type": "stream",
     "text": [
      "/Users/ming/Desktop/iMac_Drive/코스웍/2022 고급기계학습주제 (김광인)/과제/CW2\n",
      "['.DS_Store', 'Untitled.ipynb', 'CW2.pdf', 'model', '.ipynb_checkpoints', 'CW2_GP.ipynb', 'data']\n"
     ]
    }
   ],
   "source": [
    "import os\n",
    "\n",
    "#현재 폴더 경로; 작업 폴더 기준\n",
    "print(os.getcwd())\n",
    "print(os.listdir(os.getcwd()))\n",
    "# os.chdir(\"Desktop/iMac_Drive/코스웍/2022 고급기계학습주제 (김광인)/과제/CW2\") # Change path"
   ]
  },
  {
   "cell_type": "code",
   "execution_count": 12,
   "id": "f7bcc2ed-ca60-425c-b07b-4c22caa739b1",
   "metadata": {},
   "outputs": [],
   "source": [
    "from model.gaussian_process import MOGPR, SR_MOGPR\n",
    "from model.kernel import LinearKernel, GaussianKernel"
   ]
  },
  {
   "cell_type": "code",
   "execution_count": 13,
   "id": "239e6ec3-23ec-499a-8c66-c00d2eecbb69",
   "metadata": {},
   "outputs": [],
   "source": [
    "import pandas as pd\n",
    "import numpy as np\n",
    "import time\n",
    "from scipy.linalg import kron\n",
    "from sklearn.model_selection import train_test_split\n",
    "from sklearn.metrics import mean_squared_error"
   ]
  },
  {
   "cell_type": "code",
   "execution_count": 47,
   "id": "9250fbfe-4268-416a-9ec6-0487bb2e0d16",
   "metadata": {},
   "outputs": [],
   "source": [
    "# Fix seed\n",
    "seed = 1\n",
    "np.random.seed(seed)"
   ]
  },
  {
   "cell_type": "markdown",
   "id": "51672a16-c04b-4209-93bc-b3319e353568",
   "metadata": {},
   "source": [
    "## Data: SARCOS\n",
    "SARCOS is a Robot arm dataset. It aims to predict 7 Torque columns given 7 Joint positions, 7 Velocities, 7 Accelerations."
   ]
  },
  {
   "cell_type": "code",
   "execution_count": 86,
   "id": "3c6f8273-ac12-4673-a1e2-4576232709cb",
   "metadata": {},
   "outputs": [
    {
     "name": "stdout",
     "output_type": "stream",
     "text": [
      "SARCOS data size\n",
      "Train (39484, 21) (39484, 7)\n",
      "Test (5000, 21) (5000, 7)\n"
     ]
    }
   ],
   "source": [
    "train_data = pd.read_csv('./data/SARCOSTst.csv', header=None)\n",
    "test_data = pd.read_csv('./data/SARCOSTrn.csv', header=None)\n",
    "\n",
    "X_train, y_train = train_data.iloc[:,:-7], train_data.iloc[:,21:]\n",
    "# X_train, X_valid, y_train, y_valid = train_test_split(train_data.iloc[:,:-7], train_data.iloc[:,21:], test_size=0.1, random_state=seed)\n",
    "X_test, y_test = test_data.iloc[:,:-7], test_data.iloc[:,21:]\n",
    "\n",
    "print(\"SARCOS data size\")\n",
    "print(\"Train\", X_train.shape, y_train.shape)\n",
    "# print(\"Valid\", X_valid.shape, y_valid.shape)\n",
    "print(\"Test\", X_test.shape, y_test.shape)"
   ]
  },
  {
   "cell_type": "code",
   "execution_count": 43,
   "id": "31dd78ef-8e64-4f80-936b-241f211f6654",
   "metadata": {},
   "outputs": [
    {
     "name": "stdout",
     "output_type": "stream",
     "text": [
      "Run time [s]:  0.39763307571411133\n",
      "MSE:  388.1928019917617\n",
      "Run time [s]:  0.3868529796600342\n",
      "MSE:  388.3816701014443\n",
      "Run time [s]:  0.3899240493774414\n",
      "MSE:  389.7590176387092\n"
     ]
    }
   ],
   "source": [
    "seeds = [2, 3, 4]\n",
    "for seed in seeds:\n",
    "    np.random.seed(seed)\n",
    "    sparse_model = SR_MOGPR(pX_train, py_train, GaussianKernel())\n",
    "\n",
    "    start = time.time()\n",
    "\n",
    "    # My Code\n",
    "    sparse_model.predict(pX_test)\n",
    "\n",
    "    end = time.time()\n",
    "    print(\"Run time [s]: \",end-start)\n",
    "    print(\"MSE: \", mean_squared_error(py_test, sparse_model._predictive_distribution[\"mean\"]))"
   ]
  },
  {
   "cell_type": "markdown",
   "id": "a6522919-d043-432d-854c-ac5538ff5e78",
   "metadata": {},
   "source": [
    "## Kernel\n",
    "We use below linear and non-linear kernels:\n",
    "- Linear inner product kernel\n",
    "$$ k(x_1,x_2) = \\sigma_0 + x_1 \\cdot x_2 $$\n",
    "- Non-linear Gaussian kernel\n",
    "$$ k(x_1,x_2) = \\exp(-{1 \\over \\sigma_k^2}\\left|x_1-x_2\\right|^2)$$"
   ]
  },
  {
   "cell_type": "markdown",
   "id": "ba51c0c4-b850-4c45-9ff7-29a393eef1cd",
   "metadata": {},
   "source": [
    "# 1. Comparison of Exact MOGPR and Sparse MOGPR\n",
    "Here, we would see the time complexity of two algorithms. Obviously, __Sparse MOGPR is better.__<br>\n",
    "Both use __partial datasets__ due to time and memory limitations<br>\n",
    "- Linear kernel $\\sigma_0 = 1.0$\n",
    "- Gaussian kernel $\\sigma_k = 1.0$\n",
    "- noise $\\sigma_k = 1.0$"
   ]
  },
  {
   "cell_type": "code",
   "execution_count": 16,
   "id": "eb430875-6904-4e5d-97e3-348b8152bfcf",
   "metadata": {},
   "outputs": [
    {
     "name": "stdout",
     "output_type": "stream",
     "text": [
      "partial SARCOS data size\n",
      "Train (2000, 21) (2000, 7)\n",
      "Test (500, 21) (500, 7)\n"
     ]
    }
   ],
   "source": [
    "pX_train = X_train[:2000]\n",
    "py_train = y_train[:2000]\n",
    "pX_test = X_test[:500]\n",
    "py_test = y_test[:500]\n",
    "\n",
    "print(\"partial SARCOS data size\")\n",
    "print(\"Train\", pX_train.shape, py_train.shape)\n",
    "print(\"Test\", pX_test.shape, py_test.shape)"
   ]
  },
  {
   "cell_type": "markdown",
   "id": "6282488f-05b8-4942-b98c-a2629c2a7765",
   "metadata": {},
   "source": [
    "### Gaussian kernel"
   ]
  },
  {
   "cell_type": "code",
   "execution_count": 17,
   "id": "c9f36861-3079-4f81-9e57-47da23fce591",
   "metadata": {},
   "outputs": [
    {
     "name": "stdout",
     "output_type": "stream",
     "text": [
      "Run time [s]:  42.407217025756836\n",
      "MSE:  391.52417473079106\n"
     ]
    }
   ],
   "source": [
    "# Exact MOGPR\n",
    "full_model = MOGPR(pX_train, py_train, GaussianKernel())\n",
    "\n",
    "start = time.time()\n",
    "\n",
    "# My Code\n",
    "full_model.predict(pX_test)\n",
    "\n",
    "end = time.time()\n",
    "print(\"Run time [s]: \",end-start)\n",
    "print(\"MSE: \", mean_squared_error(py_test, full_model._predictive_distribution[\"mean\"]))"
   ]
  },
  {
   "cell_type": "code",
   "execution_count": 18,
   "id": "66595b63-e211-4bd8-9949-49122494e704",
   "metadata": {},
   "outputs": [
    {
     "name": "stdout",
     "output_type": "stream",
     "text": [
      "Run time [s]:  0.3959929943084717\n",
      "MSE:  390.1942064591819\n"
     ]
    }
   ],
   "source": [
    "# Sparse MOGPR\n",
    "sparse_model = SR_MOGPR(pX_train, py_train, GaussianKernel())\n",
    "\n",
    "start = time.time()\n",
    "\n",
    "# My Code\n",
    "sparse_model.predict(pX_test)\n",
    "\n",
    "end = time.time()\n",
    "print(\"Run time [s]: \",end-start)\n",
    "print(\"MSE: \", mean_squared_error(py_test, sparse_model._predictive_distribution[\"mean\"]))"
   ]
  },
  {
   "cell_type": "markdown",
   "id": "768e43f8-d290-44ca-abd8-a2fcd0062b71",
   "metadata": {},
   "source": [
    "### Linear kernel"
   ]
  },
  {
   "cell_type": "code",
   "execution_count": 19,
   "id": "fbb6586f-b1cb-4228-a8d0-7172130177bf",
   "metadata": {},
   "outputs": [
    {
     "name": "stdout",
     "output_type": "stream",
     "text": [
      "Run time [s]:  35.73332405090332\n",
      "MSE:  700.6701421631735\n"
     ]
    }
   ],
   "source": [
    "# Exact MOGPR\n",
    "full_model = MOGPR(pX_train, py_train, LinearKernel())\n",
    "\n",
    "start = time.time()\n",
    "\n",
    "# My Code\n",
    "full_model.predict(pX_test)\n",
    "\n",
    "end = time.time()\n",
    "print(\"Run time [s]: \",end-start)\n",
    "print(\"MSE: \", mean_squared_error(py_test, full_model._predictive_distribution[\"mean\"]))"
   ]
  },
  {
   "cell_type": "code",
   "execution_count": 20,
   "id": "76fdf868-1119-46f6-92d8-ab7f5e21715a",
   "metadata": {},
   "outputs": [
    {
     "name": "stdout",
     "output_type": "stream",
     "text": [
      "Run time [s]:  0.2842860221862793\n",
      "MSE:  233617.3517069902\n"
     ]
    }
   ],
   "source": [
    "# Sparse MOGPR\n",
    "sparse_model = SR_MOGPR(pX_train, py_train, LinearKernel())\n",
    "\n",
    "start = time.time()\n",
    "\n",
    "# My Code\n",
    "sparse_model.predict(pX_test)\n",
    "\n",
    "end = time.time()\n",
    "print(\"Run time [s]: \",end-start)\n",
    "print(\"MSE: \", mean_squared_error(py_test, sparse_model._predictive_distribution[\"mean\"]))"
   ]
  },
  {
   "cell_type": "markdown",
   "id": "15b81ff5-de36-4109-aa3a-6329d5b585da",
   "metadata": {},
   "source": [
    "# 2. Hyperparameter Optimisation via Grid Search\n",
    "Different seeds -> different inducing inputs."
   ]
  },
  {
   "cell_type": "code",
   "execution_count": 76,
   "id": "8f27ef91-9b0b-48f9-8681-f3abfbdf4254",
   "metadata": {},
   "outputs": [],
   "source": [
    "from sklearn.model_selection import ParameterGrid\n",
    "from collections import defaultdict\n",
    "import json"
   ]
  },
  {
   "cell_type": "markdown",
   "id": "3b983546-b2ff-4e92-b8ac-f21394badd05",
   "metadata": {},
   "source": [
    "### 1. Gaussian kernel"
   ]
  },
  {
   "cell_type": "code",
   "execution_count": 72,
   "id": "2c88db47-5289-4c0f-9891-3bdfa1f227b8",
   "metadata": {},
   "outputs": [
    {
     "name": "stdout",
     "output_type": "stream",
     "text": [
      "the number of experiments:  5\n"
     ]
    }
   ],
   "source": [
    "param_grid = {\n",
    "    'sigma': [0.01], # Noise\n",
    "    'sigma_k': [0.01, 0.1, 1.0, 10, 100],\n",
    "}\n",
    "\n",
    "grid = list(ParameterGrid(param_grid))\n",
    "print(\"the number of experiments: \", len(grid))"
   ]
  },
  {
   "cell_type": "code",
   "execution_count": 84,
   "id": "a458676c-fcad-40ba-af5c-2dfd44fcd7aa",
   "metadata": {},
   "outputs": [
    {
     "data": {
      "text/plain": [
       "[{'sigma': 0.01, 'sigma_k': 0.01},\n",
       " {'sigma': 0.01, 'sigma_k': 0.1},\n",
       " {'sigma': 0.01, 'sigma_k': 1.0},\n",
       " {'sigma': 0.01, 'sigma_k': 10},\n",
       " {'sigma': 0.01, 'sigma_k': 100}]"
      ]
     },
     "execution_count": 84,
     "metadata": {},
     "output_type": "execute_result"
    }
   ],
   "source": [
    "grid"
   ]
  },
  {
   "cell_type": "code",
   "execution_count": null,
   "id": "1dc48ca5-9bbd-4666-9e7c-097db06f8b05",
   "metadata": {},
   "outputs": [
    {
     "name": "stdout",
     "output_type": "stream",
     "text": [
      "0th running..., "
     ]
    }
   ],
   "source": [
    "runtime = defaultdict(list)\n",
    "pred_dist = defaultdict(list)\n",
    "mse = defaultdict(list)\n",
    "\n",
    "for i, args in enumerate(grid):\n",
    "    sigma_noise = args[\"sigma\"]\n",
    "    sigma_gaussian = args[\"sigma_k\"]\n",
    "    \n",
    "    model = SR_MOGPR(X_train, y_train, GaussianKernel(sigma_k=sigma_gaussian), sigma=sigma_noise)\n",
    "    \n",
    "    # check time\n",
    "    key = str(args)\n",
    "    start = time.time()\n",
    "    \n",
    "    print(f'{i}th running..., ', end=\"\")\n",
    "    model.predict(X_test)\n",
    "    \n",
    "    end1 = time.time()\n",
    "    runtime[key] = round(end1-start,3)\n",
    "    print('time: ', round(end1-start,3), \", \", end=\"\")\n",
    "    \n",
    "    # Save predictive distribution\n",
    "    pred_dist[key] = model._predictive_distribution\n",
    "    \n",
    "    mse[key] = mean_squared_error(y_test, model._predictive_distribution[\"mean\"])\n",
    "    print('MSE: ', mse[key])\n",
    "    \n",
    "    with open(\"SR_MOGPR_runtime.json\", \"w\") as json_file:\n",
    "        json.dump(runtime, json_file)\n",
    "    with open(\"SR_MOGPR_predictive_distribution.json\", \"w\") as json_file:\n",
    "        json.dump(pred_dict, json_file)\n",
    "    with open(\"SR_MOGPR_mse.json\", \"w\") as json_file:\n",
    "        json.dump(mse, json_file)"
   ]
  },
  {
   "cell_type": "code",
   "execution_count": 74,
   "id": "35210fae-df9c-4590-82a1-5009fd9d91d0",
   "metadata": {},
   "outputs": [
    {
     "data": {
      "text/plain": [
       "defaultdict(list,\n",
       "            {\"{'sigma': 0.01, 'sigma_k': 0.01}\": 0.0,\n",
       "             \"{'sigma': 0.01, 'sigma_k': 0.1}\": 0.0,\n",
       "             \"{'sigma': 0.01, 'sigma_k': 1.0}\": 0.0,\n",
       "             \"{'sigma': 0.01, 'sigma_k': 10}\": 0.0,\n",
       "             \"{'sigma': 0.01, 'sigma_k': 100}\": 0.0})"
      ]
     },
     "execution_count": 74,
     "metadata": {},
     "output_type": "execute_result"
    }
   ],
   "source": [
    "runtime"
   ]
  },
  {
   "cell_type": "markdown",
   "id": "8c1ba414-3cb2-4dc3-ade7-91723f54a358",
   "metadata": {},
   "source": [
    "### 2. Linear kernel"
   ]
  },
  {
   "cell_type": "code",
   "execution_count": 46,
   "id": "55ac543d-d216-4c47-a1df-0f82dc32aca6",
   "metadata": {},
   "outputs": [
    {
     "name": "stdout",
     "output_type": "stream",
     "text": [
      "the number of experiments:  3\n"
     ]
    }
   ],
   "source": [
    "param_grid = {\n",
    "    'sigma': [0.01, 0.1, 10], # Noise\n",
    "}\n",
    "\n",
    "grid = list(ParameterGrid(param_grid))\n",
    "print(\"the number of experiments: \", len(grid))"
   ]
  },
  {
   "cell_type": "code",
   "execution_count": 37,
   "id": "f263be61-76f9-49c8-b78c-52b7ef6c9513",
   "metadata": {},
   "outputs": [
    {
     "name": "stdout",
     "output_type": "stream",
     "text": [
      "Run time [s]:  766.880294084549\n",
      "MSE:  387.5813290671355\n"
     ]
    }
   ],
   "source": [
    "start = time.time()\n",
    "\n",
    "model = SR_MOGPR(X_train, y_train, GaussianKernel(sigma_k=0.5), sigma=0.5)\n",
    "model.predict(X_test)\n",
    "\n",
    "end = time.time()\n",
    "print(\"Run time [s]: \",end-start)\n",
    "print(\"MSE: \", mean_squared_error(y_test, model._predictive_distribution[\"mean\"]))"
   ]
  },
  {
   "cell_type": "code",
   "execution_count": 24,
   "id": "1ae5dbc0-7385-4e61-a356-344708a73f0d",
   "metadata": {},
   "outputs": [],
   "source": [
    "param_grid = {\n",
    "    'sigma': [0.1, 0.2, 0.5, 1.0, 1.2, 10], # Noise\n",
    "    'sigma_k': [0.1, 0.2, 0.5, 1.0, 1.2, 10],\n",
    "}\n",
    "\n",
    "grid = list(ParameterGrid(param_grid))"
   ]
  },
  {
   "cell_type": "code",
   "execution_count": 31,
   "id": "ffb65166-b40f-4af7-af60-f637dde0c700",
   "metadata": {},
   "outputs": [
    {
     "name": "stdout",
     "output_type": "stream",
     "text": [
      "the number of experiments:  36\n"
     ]
    },
    {
     "data": {
      "text/plain": [
       "[{'sigma': 0.1, 'sigma_k': 0.1},\n",
       " {'sigma': 0.1, 'sigma_k': 0.2},\n",
       " {'sigma': 0.1, 'sigma_k': 0.5},\n",
       " {'sigma': 0.1, 'sigma_k': 1.0},\n",
       " {'sigma': 0.1, 'sigma_k': 1.2},\n",
       " {'sigma': 0.1, 'sigma_k': 10},\n",
       " {'sigma': 0.2, 'sigma_k': 0.1},\n",
       " {'sigma': 0.2, 'sigma_k': 0.2},\n",
       " {'sigma': 0.2, 'sigma_k': 0.5},\n",
       " {'sigma': 0.2, 'sigma_k': 1.0},\n",
       " {'sigma': 0.2, 'sigma_k': 1.2},\n",
       " {'sigma': 0.2, 'sigma_k': 10},\n",
       " {'sigma': 0.5, 'sigma_k': 0.1},\n",
       " {'sigma': 0.5, 'sigma_k': 0.2},\n",
       " {'sigma': 0.5, 'sigma_k': 0.5},\n",
       " {'sigma': 0.5, 'sigma_k': 1.0},\n",
       " {'sigma': 0.5, 'sigma_k': 1.2},\n",
       " {'sigma': 0.5, 'sigma_k': 10},\n",
       " {'sigma': 1.0, 'sigma_k': 0.1},\n",
       " {'sigma': 1.0, 'sigma_k': 0.2},\n",
       " {'sigma': 1.0, 'sigma_k': 0.5},\n",
       " {'sigma': 1.0, 'sigma_k': 1.0},\n",
       " {'sigma': 1.0, 'sigma_k': 1.2},\n",
       " {'sigma': 1.0, 'sigma_k': 10},\n",
       " {'sigma': 1.2, 'sigma_k': 0.1},\n",
       " {'sigma': 1.2, 'sigma_k': 0.2},\n",
       " {'sigma': 1.2, 'sigma_k': 0.5},\n",
       " {'sigma': 1.2, 'sigma_k': 1.0},\n",
       " {'sigma': 1.2, 'sigma_k': 1.2},\n",
       " {'sigma': 1.2, 'sigma_k': 10},\n",
       " {'sigma': 10, 'sigma_k': 0.1},\n",
       " {'sigma': 10, 'sigma_k': 0.2},\n",
       " {'sigma': 10, 'sigma_k': 0.5},\n",
       " {'sigma': 10, 'sigma_k': 1.0},\n",
       " {'sigma': 10, 'sigma_k': 1.2},\n",
       " {'sigma': 10, 'sigma_k': 10}]"
      ]
     },
     "execution_count": 31,
     "metadata": {},
     "output_type": "execute_result"
    }
   ],
   "source": [
    "print(\"the number of experiments: \", len(grid))\n",
    "grid"
   ]
  },
  {
   "cell_type": "code",
   "execution_count": 33,
   "id": "46074ed4-10ee-470c-a809-e7f8eac53d16",
   "metadata": {},
   "outputs": [
    {
     "name": "stdout",
     "output_type": "stream",
     "text": [
      "0.1\n",
      "0.1\n",
      "0.1\n",
      "0.1\n",
      "0.1\n",
      "0.1\n",
      "0.2\n",
      "0.2\n",
      "0.2\n",
      "0.2\n",
      "0.2\n",
      "0.2\n",
      "0.5\n",
      "0.5\n",
      "0.5\n",
      "0.5\n",
      "0.5\n",
      "0.5\n",
      "1.0\n",
      "1.0\n",
      "1.0\n",
      "1.0\n",
      "1.0\n",
      "1.0\n",
      "1.2\n",
      "1.2\n",
      "1.2\n",
      "1.2\n",
      "1.2\n",
      "1.2\n",
      "10\n",
      "10\n",
      "10\n",
      "10\n",
      "10\n",
      "10\n"
     ]
    }
   ],
   "source": [
    "train_time = []\n",
    "\n",
    "for i, args in enumerate(grid):\n",
    "    sigma_noise = args[\"sigma\"]\n",
    "    sigma_gaussian = args[\"sigma_k\"]\n",
    "    \n",
    "    model = SR_MOGPR(X_train, y_train, GaussianKernel(sigma_k=sigma_gaussian), sigma=sigma_noise)\n",
    "    \n",
    "    # check time\n",
    "    start = time.time()\n",
    "    \n",
    "    print(f'{i}th running...', end='')\n",
    "    model.predict(X_train, y_train)\n",
    "    \n",
    "    end1 = time.time()\n",
    "    train_time.append(end1-start)\n",
    "    print( 'time: ', round(end1-start,1), end='')\n",
    "\n",
    "#     y_pred = clf.predict(test_X10)\n",
    "#     ac = accuracy_score(test_y10, y_pred)\n",
    "#     print(' acc: ', ac)\n",
    "\n",
    "#     end2 = time.time()\n",
    "#     inf_time.append(end2-end1)\n",
    "#     acc.append(ac)\n",
    "\n",
    "# Rounding\n",
    "# tt = [round(t,1) for t in train_time]\n",
    "# it = [round(t,4) for t in inf_time]\n",
    "# ac = [round(a,3) for a in acc]\n"
   ]
  },
  {
   "cell_type": "code",
   "execution_count": null,
   "id": "5c14cf75-edcf-4389-915e-5f892d850b14",
   "metadata": {},
   "outputs": [],
   "source": []
  }
 ],
 "metadata": {
  "kernelspec": {
   "display_name": "Python 3",
   "language": "python",
   "name": "python3"
  },
  "language_info": {
   "codemirror_mode": {
    "name": "ipython",
    "version": 3
   },
   "file_extension": ".py",
   "mimetype": "text/x-python",
   "name": "python",
   "nbconvert_exporter": "python",
   "pygments_lexer": "ipython3",
   "version": "3.8.10"
  }
 },
 "nbformat": 4,
 "nbformat_minor": 5
}
