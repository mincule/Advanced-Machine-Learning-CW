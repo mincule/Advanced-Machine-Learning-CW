{
  "cells": [
    {
      "cell_type": "code",
      "execution_count": null,
      "metadata": {
        "id": "aec33900-6813-4d7f-8e4d-e6446f6b8b3f"
      },
      "outputs": [],
      "source": [
        "import numpy as np\n",
        "import pandas as pd\n",
        "from sklearn import svm, metrics\n",
        "from sklearn.model_selection import GridSearchCV, train_test_split\n",
        "from sklearn.model_selection import cross_validate\n",
        "from sklearn.metrics import accuracy_score"
      ],
      "id": "aec33900-6813-4d7f-8e4d-e6446f6b8b3f"
    },
    {
      "cell_type": "code",
      "source": [
        "import pickle"
      ],
      "metadata": {
        "id": "aJowEYtzp3lO"
      },
      "id": "aJowEYtzp3lO",
      "execution_count": null,
      "outputs": []
    },
    {
      "cell_type": "code",
      "source": [
        "seed = 100"
      ],
      "metadata": {
        "id": "iUQna-NTZqU6"
      },
      "id": "iUQna-NTZqU6",
      "execution_count": null,
      "outputs": []
    },
    {
      "cell_type": "markdown",
      "metadata": {
        "id": "2d6dad1b-a06c-4dcc-9ffe-5d0b4d27271c"
      },
      "source": [
        "### Load cifar10"
      ],
      "id": "2d6dad1b-a06c-4dcc-9ffe-5d0b4d27271c"
    },
    {
      "cell_type": "code",
      "source": [
        "from google.colab import drive\n",
        "drive.mount('/content/drive')"
      ],
      "metadata": {
        "colab": {
          "base_uri": "https://localhost:8080/"
        },
        "id": "dFzKwaxaRqB-",
        "outputId": "290ee363-d5f2-4b4b-f186-e3da8fd7fb3c"
      },
      "id": "dFzKwaxaRqB-",
      "execution_count": null,
      "outputs": [
        {
          "output_type": "stream",
          "name": "stdout",
          "text": [
            "Mounted at /content/drive\n"
          ]
        }
      ]
    },
    {
      "cell_type": "code",
      "execution_count": null,
      "metadata": {
        "id": "87b0bdcb-81f7-4de8-910b-30ff13cb9de9"
      },
      "outputs": [],
      "source": [
        "def unpickle(file):\n",
        "    import pickle\n",
        "    with open(file, 'rb') as fo:\n",
        "        dict = pickle.load(fo, encoding='bytes')\n",
        "    return dict"
      ],
      "id": "87b0bdcb-81f7-4de8-910b-30ff13cb9de9"
    },
    {
      "cell_type": "code",
      "source": [
        "# for colab only\n",
        "import os\n",
        "colab = '/content/drive/Othercomputers/내 iMac/Meta_Learning/코스웍/2022 고급기계학습주제 (김광인)/과제/CW1/data'\n",
        "PATH1 = os.path.join(colab, 'cifar-10-batches-py/data_batch_1')\n",
        "PATH2 = os.path.join(colab, 'cifar-100-python/test')"
      ],
      "metadata": {
        "id": "82PY6s7MQqvy"
      },
      "id": "82PY6s7MQqvy",
      "execution_count": null,
      "outputs": []
    },
    {
      "cell_type": "code",
      "source": [
        "# cifar10: b'data', b'labels'\n",
        "# cifar100: b'data', b'fine_labels'\n",
        "cifar10 = unpickle(PATH1)\n",
        "cifar100 = unpickle(PATH2)"
      ],
      "metadata": {
        "id": "ujyRumx2RI2_"
      },
      "id": "ujyRumx2RI2_",
      "execution_count": null,
      "outputs": []
    },
    {
      "cell_type": "code",
      "source": [
        "PATH1_t = os.path.join(colab, 'cifar-10-batches-py/data_batch_2')\n",
        "PATH2_t = os.path.join(colab, 'cifar-100-python/train')"
      ],
      "metadata": {
        "id": "U_mxvGDnVOVH"
      },
      "id": "U_mxvGDnVOVH",
      "execution_count": null,
      "outputs": []
    },
    {
      "cell_type": "code",
      "source": [
        "# cifar10: b'data', b'labels'\n",
        "# cifar100: b'data', b'fine_labels'\n",
        "test_cifar10 = unpickle(PATH1_t)\n",
        "test_cifar100 = unpickle(PATH2_t)"
      ],
      "metadata": {
        "id": "YMZsF6owVWU-"
      },
      "id": "YMZsF6owVWU-",
      "execution_count": null,
      "outputs": []
    },
    {
      "cell_type": "markdown",
      "metadata": {
        "id": "a9d58530-dbb5-45f4-b431-44b784896855"
      },
      "source": [
        "--------------"
      ],
      "id": "a9d58530-dbb5-45f4-b431-44b784896855"
    },
    {
      "cell_type": "markdown",
      "metadata": {
        "id": "737c9f47-e9c6-4b7e-b883-ede13c4a3bc4"
      },
      "source": [
        "### Normalise image data"
      ],
      "id": "737c9f47-e9c6-4b7e-b883-ede13c4a3bc4"
    },
    {
      "cell_type": "code",
      "source": [
        "def dataset_generator(data_dict, size, cifar_type, seed=100):\n",
        "    if cifar_type == 'cifar10':\n",
        "        labels = b'labels'\n",
        "    elif cifar_type == 'cifar100':\n",
        "        labels = b'fine_labels'\n",
        "\n",
        "    assert size <= len(data_dict[labels])\n",
        "    ratio = float(size/len(data_dict[labels]))\n",
        "    _, _X, _, _y = train_test_split(data_dict[b'data'],\n",
        "                                    data_dict[labels],\n",
        "                                    test_size = ratio,\n",
        "                                    random_state = seed)\n",
        "\n",
        "    dataset = {'data': _X, 'labels': _y}\n",
        "    return dataset"
      ],
      "metadata": {
        "id": "bOB5O03HaY-e"
      },
      "id": "bOB5O03HaY-e",
      "execution_count": null,
      "outputs": []
    },
    {
      "cell_type": "code",
      "execution_count": null,
      "metadata": {
        "id": "f9c1c74b-3ff7-40e1-b85a-ca1c3e349601"
      },
      "outputs": [],
      "source": [
        "cifar10[b'data'] = cifar10[b'data']/255\n",
        "cifar100[b'data'] = cifar100[b'data']/255"
      ],
      "id": "f9c1c74b-3ff7-40e1-b85a-ca1c3e349601"
    },
    {
      "cell_type": "code",
      "source": [
        "test_cifar10[b'data'] = test_cifar10[b'data']/255\n",
        "test_cifar100[b'data'] = test_cifar100[b'data']/255"
      ],
      "metadata": {
        "id": "w2eVCQObVinL"
      },
      "id": "w2eVCQObVinL",
      "execution_count": null,
      "outputs": []
    },
    {
      "cell_type": "code",
      "execution_count": null,
      "metadata": {
        "colab": {
          "base_uri": "https://localhost:8080/"
        },
        "id": "d33597d9-b37f-42ed-b8d3-34ec310a760a",
        "outputId": "f653d766-6c52-4d0b-f3bc-8158a04922bc"
      },
      "outputs": [
        {
          "output_type": "stream",
          "name": "stdout",
          "text": [
            "cifar10\n",
            "[0.23137255 0.16862745 0.19607843 ... 0.54901961 0.32941176 0.28235294]\n",
            "[0.1372549  0.10588235 0.09803922 ... 0.6627451  0.65882353 0.65882353]\n",
            "cifar100\n",
            "[0.78039216 0.76862745 0.76470588 ... 0.84313725 0.82745098 0.71764706]\n",
            "[1.         1.         1.         ... 0.03921569 0.23137255 0.30980392]\n"
          ]
        }
      ],
      "source": [
        "# check\n",
        "print('cifar10')\n",
        "print(cifar10[b'data'][0])\n",
        "print(test_cifar10[b'data'][0])\n",
        "print('cifar100')\n",
        "print(cifar100[b'data'][0])\n",
        "print(test_cifar100[b'data'][0])"
      ],
      "id": "d33597d9-b37f-42ed-b8d3-34ec310a760a"
    },
    {
      "cell_type": "code",
      "source": [
        "cifar10_train = dataset_generator(cifar10, 3000, 'cifar10')\n",
        "cifar10_test = dataset_generator(test_cifar10, 300, 'cifar10')\n",
        "cifar100_train = dataset_generator(cifar100, 3000, 'cifar100')\n",
        "cifar100_test = dataset_generator(test_cifar100, 300, 'cifar100')"
      ],
      "metadata": {
        "id": "bk4G5JTmcMXR"
      },
      "id": "bk4G5JTmcMXR",
      "execution_count": null,
      "outputs": []
    },
    {
      "cell_type": "markdown",
      "metadata": {
        "id": "04fcd798-9aaf-4d26-bd69-6ca0abb377bd"
      },
      "source": [
        "---------------------"
      ],
      "id": "04fcd798-9aaf-4d26-bd69-6ca0abb377bd"
    },
    {
      "cell_type": "markdown",
      "metadata": {
        "id": "1ee76cc8-cbf7-4d8e-a8b4-b85219a2aa2e"
      },
      "source": [
        "### Linear SVM"
      ],
      "id": "1ee76cc8-cbf7-4d8e-a8b4-b85219a2aa2e"
    },
    {
      "cell_type": "code",
      "execution_count": null,
      "metadata": {
        "id": "2f0d4da0-f800-4576-9920-09badba2385f"
      },
      "outputs": [],
      "source": [
        "linear_clf = svm.SVC(kernel='linear', C=1, random_state=seed)\n",
        "# linear_clf.fit(X_train, y_train)"
      ],
      "id": "2f0d4da0-f800-4576-9920-09badba2385f"
    },
    {
      "cell_type": "markdown",
      "metadata": {
        "id": "tVR7IXt55jJh"
      },
      "source": [
        "5-fold cross validation<br>\n",
        "\n",
        "\n",
        "\n",
        "*   linear\n",
        "*   cifar 10, 100\n",
        "*   2400 for train / 600 for test"
      ],
      "id": "tVR7IXt55jJh"
    },
    {
      "cell_type": "code",
      "execution_count": null,
      "metadata": {
        "id": "1434ad49-0f73-4284-8036-a1616bdc24ef",
        "outputId": "1ee971b4-31eb-47c4-e19c-717d339cdef5",
        "colab": {
          "base_uri": "https://localhost:8080/"
        }
      },
      "outputs": [
        {
          "output_type": "stream",
          "name": "stdout",
          "text": [
            "    fit_time  score_time  test_accuracy\n",
            "0  13.160133    5.043334       0.305000\n",
            "1  11.154256    4.152277       0.298333\n",
            "2  11.118886    4.164580       0.286667\n",
            "3  11.032084    4.147673       0.316667\n",
            "4  10.892714    4.163548       0.315000\n"
          ]
        }
      ],
      "source": [
        "# cifar 10 - C=1\n",
        "df = pd.DataFrame(cross_validate(linear_clf,\n",
        "                                 cifar10_train['data'],\n",
        "                                 cifar10_train['labels'],\n",
        "                                 scoring=['accuracy'],\n",
        "                                 cv =5))\n",
        "\n",
        "print(df)"
      ],
      "id": "1434ad49-0f73-4284-8036-a1616bdc24ef"
    },
    {
      "cell_type": "code",
      "source": [
        "# cifar 100 - C=1\n",
        "df2 = pd.DataFrame(cross_validate(linear_clf,\n",
        "                                 cifar100_train['data'],\n",
        "                                 cifar100_train['labels'],\n",
        "                                 scoring=['accuracy'],\n",
        "                                 cv =5))\n",
        "\n",
        "print(df2)"
      ],
      "metadata": {
        "colab": {
          "base_uri": "https://localhost:8080/"
        },
        "id": "DTwBEQEnhbTr",
        "outputId": "c374bdc0-7589-441d-c5d9-8ab7f1454041"
      },
      "id": "DTwBEQEnhbTr",
      "execution_count": null,
      "outputs": [
        {
          "output_type": "stream",
          "name": "stdout",
          "text": [
            "    fit_time  score_time  test_accuracy\n",
            "0  15.126377    4.832221       0.125000\n",
            "1  14.850858    4.862410       0.123333\n",
            "2  12.524088    5.427286       0.120000\n",
            "3  12.429066    4.857528       0.118333\n",
            "4  12.044189    5.009994       0.143333\n"
          ]
        }
      ]
    },
    {
      "cell_type": "markdown",
      "source": [
        "### Hyperparameter Search"
      ],
      "metadata": {
        "id": "-ewZLNPfilc2"
      },
      "id": "-ewZLNPfilc2"
    },
    {
      "cell_type": "markdown",
      "source": [
        "5-fold Cross-Validation\n",
        "\n",
        "*   linear / nonlinear - rbf\n",
        "*   cifar 10\n",
        "*   3000 for cross-validation / 300 for test\n"
      ],
      "metadata": {
        "id": "HK_Mp5hpipm4"
      },
      "id": "HK_Mp5hpipm4"
    },
    {
      "cell_type": "code",
      "source": [
        "param_grid = [\n",
        "  {'C': [1, 10, 100, 1000], 'kernel': ['linear']},\n",
        "  {'C': [1, 10, 100, 1000], 'gamma': [0.001, 0.0001], 'kernel': ['rbf']},\n",
        " ]\n",
        "\n",
        "svc = svm.SVC()\n",
        "clf = GridSearchCV(svc, param_grid, cv=5)\n",
        "clf.fit(cifar10_train['data'], cifar10_train['labels'])"
      ],
      "metadata": {
        "colab": {
          "base_uri": "https://localhost:8080/"
        },
        "id": "-RjSTW0UioMh",
        "outputId": "f75ac933-d222-43d3-9b0d-0aa1a1519e76"
      },
      "id": "-RjSTW0UioMh",
      "execution_count": null,
      "outputs": [
        {
          "output_type": "execute_result",
          "data": {
            "text/plain": [
              "GridSearchCV(cv=5, estimator=SVC(),\n",
              "             param_grid=[{'C': [1, 10, 100, 1000], 'kernel': ['linear']},\n",
              "                         {'C': [1, 10, 100, 1000], 'gamma': [0.001, 0.0001],\n",
              "                          'kernel': ['rbf']}])"
            ]
          },
          "metadata": {},
          "execution_count": 71
        }
      ]
    },
    {
      "cell_type": "code",
      "source": [
        "df_cifar10_cv = pd.DataFrame(clf.cv_results_)[['mean_test_score', 'std_test_score', 'params']]\n",
        "df_cifar10_cv"
      ],
      "metadata": {
        "colab": {
          "base_uri": "https://localhost:8080/",
          "height": 426
        },
        "id": "yFNgFHClkqT5",
        "outputId": "f6a15e23-11c3-4343-cda6-998e0937ffb7"
      },
      "id": "yFNgFHClkqT5",
      "execution_count": null,
      "outputs": [
        {
          "output_type": "execute_result",
          "data": {
            "text/plain": [
              "    mean_test_score  std_test_score  \\\n",
              "0          0.304333        0.011086   \n",
              "1          0.303667        0.010975   \n",
              "2          0.303667        0.010975   \n",
              "3          0.303667        0.010975   \n",
              "4          0.366000        0.017082   \n",
              "5          0.264333        0.013808   \n",
              "6          0.395333        0.012083   \n",
              "7          0.365000        0.015019   \n",
              "8          0.381667        0.013416   \n",
              "9          0.375000        0.013703   \n",
              "10         0.380000        0.014981   \n",
              "11         0.340333        0.013055   \n",
              "\n",
              "                                           params  \n",
              "0                    {'C': 1, 'kernel': 'linear'}  \n",
              "1                   {'C': 10, 'kernel': 'linear'}  \n",
              "2                  {'C': 100, 'kernel': 'linear'}  \n",
              "3                 {'C': 1000, 'kernel': 'linear'}  \n",
              "4       {'C': 1, 'gamma': 0.001, 'kernel': 'rbf'}  \n",
              "5      {'C': 1, 'gamma': 0.0001, 'kernel': 'rbf'}  \n",
              "6      {'C': 10, 'gamma': 0.001, 'kernel': 'rbf'}  \n",
              "7     {'C': 10, 'gamma': 0.0001, 'kernel': 'rbf'}  \n",
              "8     {'C': 100, 'gamma': 0.001, 'kernel': 'rbf'}  \n",
              "9    {'C': 100, 'gamma': 0.0001, 'kernel': 'rbf'}  \n",
              "10   {'C': 1000, 'gamma': 0.001, 'kernel': 'rbf'}  \n",
              "11  {'C': 1000, 'gamma': 0.0001, 'kernel': 'rbf'}  "
            ],
            "text/html": [
              "\n",
              "  <div id=\"df-e23bab48-17e6-4e03-9712-e98b8e6912af\">\n",
              "    <div class=\"colab-df-container\">\n",
              "      <div>\n",
              "<style scoped>\n",
              "    .dataframe tbody tr th:only-of-type {\n",
              "        vertical-align: middle;\n",
              "    }\n",
              "\n",
              "    .dataframe tbody tr th {\n",
              "        vertical-align: top;\n",
              "    }\n",
              "\n",
              "    .dataframe thead th {\n",
              "        text-align: right;\n",
              "    }\n",
              "</style>\n",
              "<table border=\"1\" class=\"dataframe\">\n",
              "  <thead>\n",
              "    <tr style=\"text-align: right;\">\n",
              "      <th></th>\n",
              "      <th>mean_test_score</th>\n",
              "      <th>std_test_score</th>\n",
              "      <th>params</th>\n",
              "    </tr>\n",
              "  </thead>\n",
              "  <tbody>\n",
              "    <tr>\n",
              "      <th>0</th>\n",
              "      <td>0.304333</td>\n",
              "      <td>0.011086</td>\n",
              "      <td>{'C': 1, 'kernel': 'linear'}</td>\n",
              "    </tr>\n",
              "    <tr>\n",
              "      <th>1</th>\n",
              "      <td>0.303667</td>\n",
              "      <td>0.010975</td>\n",
              "      <td>{'C': 10, 'kernel': 'linear'}</td>\n",
              "    </tr>\n",
              "    <tr>\n",
              "      <th>2</th>\n",
              "      <td>0.303667</td>\n",
              "      <td>0.010975</td>\n",
              "      <td>{'C': 100, 'kernel': 'linear'}</td>\n",
              "    </tr>\n",
              "    <tr>\n",
              "      <th>3</th>\n",
              "      <td>0.303667</td>\n",
              "      <td>0.010975</td>\n",
              "      <td>{'C': 1000, 'kernel': 'linear'}</td>\n",
              "    </tr>\n",
              "    <tr>\n",
              "      <th>4</th>\n",
              "      <td>0.366000</td>\n",
              "      <td>0.017082</td>\n",
              "      <td>{'C': 1, 'gamma': 0.001, 'kernel': 'rbf'}</td>\n",
              "    </tr>\n",
              "    <tr>\n",
              "      <th>5</th>\n",
              "      <td>0.264333</td>\n",
              "      <td>0.013808</td>\n",
              "      <td>{'C': 1, 'gamma': 0.0001, 'kernel': 'rbf'}</td>\n",
              "    </tr>\n",
              "    <tr>\n",
              "      <th>6</th>\n",
              "      <td>0.395333</td>\n",
              "      <td>0.012083</td>\n",
              "      <td>{'C': 10, 'gamma': 0.001, 'kernel': 'rbf'}</td>\n",
              "    </tr>\n",
              "    <tr>\n",
              "      <th>7</th>\n",
              "      <td>0.365000</td>\n",
              "      <td>0.015019</td>\n",
              "      <td>{'C': 10, 'gamma': 0.0001, 'kernel': 'rbf'}</td>\n",
              "    </tr>\n",
              "    <tr>\n",
              "      <th>8</th>\n",
              "      <td>0.381667</td>\n",
              "      <td>0.013416</td>\n",
              "      <td>{'C': 100, 'gamma': 0.001, 'kernel': 'rbf'}</td>\n",
              "    </tr>\n",
              "    <tr>\n",
              "      <th>9</th>\n",
              "      <td>0.375000</td>\n",
              "      <td>0.013703</td>\n",
              "      <td>{'C': 100, 'gamma': 0.0001, 'kernel': 'rbf'}</td>\n",
              "    </tr>\n",
              "    <tr>\n",
              "      <th>10</th>\n",
              "      <td>0.380000</td>\n",
              "      <td>0.014981</td>\n",
              "      <td>{'C': 1000, 'gamma': 0.001, 'kernel': 'rbf'}</td>\n",
              "    </tr>\n",
              "    <tr>\n",
              "      <th>11</th>\n",
              "      <td>0.340333</td>\n",
              "      <td>0.013055</td>\n",
              "      <td>{'C': 1000, 'gamma': 0.0001, 'kernel': 'rbf'}</td>\n",
              "    </tr>\n",
              "  </tbody>\n",
              "</table>\n",
              "</div>\n",
              "      <button class=\"colab-df-convert\" onclick=\"convertToInteractive('df-e23bab48-17e6-4e03-9712-e98b8e6912af')\"\n",
              "              title=\"Convert this dataframe to an interactive table.\"\n",
              "              style=\"display:none;\">\n",
              "        \n",
              "  <svg xmlns=\"http://www.w3.org/2000/svg\" height=\"24px\"viewBox=\"0 0 24 24\"\n",
              "       width=\"24px\">\n",
              "    <path d=\"M0 0h24v24H0V0z\" fill=\"none\"/>\n",
              "    <path d=\"M18.56 5.44l.94 2.06.94-2.06 2.06-.94-2.06-.94-.94-2.06-.94 2.06-2.06.94zm-11 1L8.5 8.5l.94-2.06 2.06-.94-2.06-.94L8.5 2.5l-.94 2.06-2.06.94zm10 10l.94 2.06.94-2.06 2.06-.94-2.06-.94-.94-2.06-.94 2.06-2.06.94z\"/><path d=\"M17.41 7.96l-1.37-1.37c-.4-.4-.92-.59-1.43-.59-.52 0-1.04.2-1.43.59L10.3 9.45l-7.72 7.72c-.78.78-.78 2.05 0 2.83L4 21.41c.39.39.9.59 1.41.59.51 0 1.02-.2 1.41-.59l7.78-7.78 2.81-2.81c.8-.78.8-2.07 0-2.86zM5.41 20L4 18.59l7.72-7.72 1.47 1.35L5.41 20z\"/>\n",
              "  </svg>\n",
              "      </button>\n",
              "      \n",
              "  <style>\n",
              "    .colab-df-container {\n",
              "      display:flex;\n",
              "      flex-wrap:wrap;\n",
              "      gap: 12px;\n",
              "    }\n",
              "\n",
              "    .colab-df-convert {\n",
              "      background-color: #E8F0FE;\n",
              "      border: none;\n",
              "      border-radius: 50%;\n",
              "      cursor: pointer;\n",
              "      display: none;\n",
              "      fill: #1967D2;\n",
              "      height: 32px;\n",
              "      padding: 0 0 0 0;\n",
              "      width: 32px;\n",
              "    }\n",
              "\n",
              "    .colab-df-convert:hover {\n",
              "      background-color: #E2EBFA;\n",
              "      box-shadow: 0px 1px 2px rgba(60, 64, 67, 0.3), 0px 1px 3px 1px rgba(60, 64, 67, 0.15);\n",
              "      fill: #174EA6;\n",
              "    }\n",
              "\n",
              "    [theme=dark] .colab-df-convert {\n",
              "      background-color: #3B4455;\n",
              "      fill: #D2E3FC;\n",
              "    }\n",
              "\n",
              "    [theme=dark] .colab-df-convert:hover {\n",
              "      background-color: #434B5C;\n",
              "      box-shadow: 0px 1px 3px 1px rgba(0, 0, 0, 0.15);\n",
              "      filter: drop-shadow(0px 1px 2px rgba(0, 0, 0, 0.3));\n",
              "      fill: #FFFFFF;\n",
              "    }\n",
              "  </style>\n",
              "\n",
              "      <script>\n",
              "        const buttonEl =\n",
              "          document.querySelector('#df-e23bab48-17e6-4e03-9712-e98b8e6912af button.colab-df-convert');\n",
              "        buttonEl.style.display =\n",
              "          google.colab.kernel.accessAllowed ? 'block' : 'none';\n",
              "\n",
              "        async function convertToInteractive(key) {\n",
              "          const element = document.querySelector('#df-e23bab48-17e6-4e03-9712-e98b8e6912af');\n",
              "          const dataTable =\n",
              "            await google.colab.kernel.invokeFunction('convertToInteractive',\n",
              "                                                     [key], {});\n",
              "          if (!dataTable) return;\n",
              "\n",
              "          const docLinkHtml = 'Like what you see? Visit the ' +\n",
              "            '<a target=\"_blank\" href=https://colab.research.google.com/notebooks/data_table.ipynb>data table notebook</a>'\n",
              "            + ' to learn more about interactive tables.';\n",
              "          element.innerHTML = '';\n",
              "          dataTable['output_type'] = 'display_data';\n",
              "          await google.colab.output.renderOutput(dataTable, element);\n",
              "          const docLink = document.createElement('div');\n",
              "          docLink.innerHTML = docLinkHtml;\n",
              "          element.appendChild(docLink);\n",
              "        }\n",
              "      </script>\n",
              "    </div>\n",
              "  </div>\n",
              "  "
            ]
          },
          "metadata": {},
          "execution_count": 72
        }
      ]
    },
    {
      "cell_type": "code",
      "source": [
        "# Best params, accuracy\n",
        "print(f\"The Best Parameters: {clf.best_params_}\")\n",
        "print(f\"The Best Accuracy: {clf.best_score_}\")"
      ],
      "metadata": {
        "colab": {
          "base_uri": "https://localhost:8080/"
        },
        "id": "CRkUn7Omsgc6",
        "outputId": "10e35031-f6c9-42d7-92b1-2827d4646819"
      },
      "id": "CRkUn7Omsgc6",
      "execution_count": null,
      "outputs": [
        {
          "output_type": "stream",
          "name": "stdout",
          "text": [
            "The Best Parameters: {'C': 10, 'gamma': 0.001, 'kernel': 'rbf'}\n",
            "The Best Accuracy: 0.3953333333333333\n"
          ]
        }
      ]
    },
    {
      "cell_type": "code",
      "source": [
        "y_pred = clf.predict(cifar10_test['data'])"
      ],
      "metadata": {
        "id": "KVgcN-eGrByD"
      },
      "id": "KVgcN-eGrByD",
      "execution_count": null,
      "outputs": []
    },
    {
      "cell_type": "code",
      "source": [
        "print(metrics.classification_report(cifar10_test['labels'], y_pred))"
      ],
      "metadata": {
        "colab": {
          "base_uri": "https://localhost:8080/"
        },
        "id": "gW9Hi1_CtWRt",
        "outputId": "85ac26d3-67e3-41e6-d2fb-18299a1dfc7b"
      },
      "id": "gW9Hi1_CtWRt",
      "execution_count": null,
      "outputs": [
        {
          "output_type": "stream",
          "name": "stdout",
          "text": [
            "              precision    recall  f1-score   support\n",
            "\n",
            "           0       0.53      0.53      0.53        43\n",
            "           1       0.32      0.28      0.30        25\n",
            "           2       0.24      0.32      0.27        25\n",
            "           3       0.30      0.33      0.31        24\n",
            "           4       0.30      0.38      0.33        32\n",
            "           5       0.39      0.27      0.32        26\n",
            "           6       0.56      0.50      0.53        36\n",
            "           7       0.33      0.23      0.27        30\n",
            "           8       0.47      0.49      0.48        37\n",
            "           9       0.40      0.45      0.43        22\n",
            "\n",
            "    accuracy                           0.39       300\n",
            "   macro avg       0.38      0.38      0.38       300\n",
            "weighted avg       0.40      0.39      0.39       300\n",
            "\n"
          ]
        }
      ]
    },
    {
      "cell_type": "code",
      "source": [
        "# save the model to disk\n",
        "filename = 'cifar10_cv.sav'\n",
        "pickle.dump(clf, open(filename, 'wb'))"
      ],
      "metadata": {
        "id": "1TZ5nz82pmYA"
      },
      "id": "1TZ5nz82pmYA",
      "execution_count": null,
      "outputs": []
    },
    {
      "cell_type": "code",
      "source": [
        "# load the model from disk\n",
        "# loaded_model = pickle.load(open(filename, 'rb'))\n",
        "# y_pred = loaded_model.best_estimator_.predict(cifar10_test['data'])"
      ],
      "metadata": {
        "id": "UwTVgJt4p-Cv"
      },
      "id": "UwTVgJt4p-Cv",
      "execution_count": null,
      "outputs": []
    },
    {
      "cell_type": "markdown",
      "source": [
        "5-fold Cross-Validation\n",
        "\n",
        "*   linear / nonlinear - rbf\n",
        "*   cifar 100\n",
        "*   3000 for cross-validation / 300 for test"
      ],
      "metadata": {
        "id": "FoZqVPnmr4er"
      },
      "id": "FoZqVPnmr4er"
    },
    {
      "cell_type": "code",
      "source": [
        "param_grid = [\n",
        "  {'C': [1, 10, 100, 1000], 'kernel': ['linear']},\n",
        "  {'C': [1, 10, 100, 1000], 'gamma': [0.001, 0.0001], 'kernel': ['rbf']},\n",
        " ]\n",
        "\n",
        "svc2 = svm.SVC()\n",
        "clf2 = GridSearchCV(svc2, param_grid, cv=5)\n",
        "clf2.fit(cifar100_train['data'], cifar100_train['labels'])"
      ],
      "metadata": {
        "colab": {
          "base_uri": "https://localhost:8080/"
        },
        "id": "Qs7_k4lir7BR",
        "outputId": "eda6d39e-9e50-4ca9-d435-b63561ccf034"
      },
      "id": "Qs7_k4lir7BR",
      "execution_count": null,
      "outputs": [
        {
          "output_type": "execute_result",
          "data": {
            "text/plain": [
              "GridSearchCV(cv=5, estimator=SVC(),\n",
              "             param_grid=[{'C': [1, 10, 100, 1000], 'kernel': ['linear']},\n",
              "                         {'C': [1, 10, 100, 1000], 'gamma': [0.001, 0.0001],\n",
              "                          'kernel': ['rbf']}])"
            ]
          },
          "metadata": {},
          "execution_count": 91
        }
      ]
    },
    {
      "cell_type": "code",
      "source": [
        "df_cifar100_cv = pd.DataFrame(clf2.cv_results_)[['mean_test_score', 'std_test_score', 'params']]\n",
        "df_cifar100_cv"
      ],
      "metadata": {
        "colab": {
          "base_uri": "https://localhost:8080/",
          "height": 426
        },
        "id": "LHcO-hS0sBBZ",
        "outputId": "286dfafd-700f-4dae-c527-96a063c89ea3"
      },
      "id": "LHcO-hS0sBBZ",
      "execution_count": null,
      "outputs": [
        {
          "output_type": "execute_result",
          "data": {
            "text/plain": [
              "    mean_test_score  std_test_score  \\\n",
              "0          0.126000        0.008981   \n",
              "1          0.126000        0.008981   \n",
              "2          0.126000        0.008981   \n",
              "3          0.126000        0.008981   \n",
              "4          0.090000        0.009006   \n",
              "5          0.030667        0.006200   \n",
              "6          0.139667        0.006182   \n",
              "7          0.096000        0.007860   \n",
              "8          0.133333        0.007226   \n",
              "9          0.125333        0.004643   \n",
              "10         0.133333        0.006992   \n",
              "11         0.130000        0.004714   \n",
              "\n",
              "                                           params  \n",
              "0                    {'C': 1, 'kernel': 'linear'}  \n",
              "1                   {'C': 10, 'kernel': 'linear'}  \n",
              "2                  {'C': 100, 'kernel': 'linear'}  \n",
              "3                 {'C': 1000, 'kernel': 'linear'}  \n",
              "4       {'C': 1, 'gamma': 0.001, 'kernel': 'rbf'}  \n",
              "5      {'C': 1, 'gamma': 0.0001, 'kernel': 'rbf'}  \n",
              "6      {'C': 10, 'gamma': 0.001, 'kernel': 'rbf'}  \n",
              "7     {'C': 10, 'gamma': 0.0001, 'kernel': 'rbf'}  \n",
              "8     {'C': 100, 'gamma': 0.001, 'kernel': 'rbf'}  \n",
              "9    {'C': 100, 'gamma': 0.0001, 'kernel': 'rbf'}  \n",
              "10   {'C': 1000, 'gamma': 0.001, 'kernel': 'rbf'}  \n",
              "11  {'C': 1000, 'gamma': 0.0001, 'kernel': 'rbf'}  "
            ],
            "text/html": [
              "\n",
              "  <div id=\"df-9fe1384f-82e1-4d9d-ba02-7a7b5d6226ed\">\n",
              "    <div class=\"colab-df-container\">\n",
              "      <div>\n",
              "<style scoped>\n",
              "    .dataframe tbody tr th:only-of-type {\n",
              "        vertical-align: middle;\n",
              "    }\n",
              "\n",
              "    .dataframe tbody tr th {\n",
              "        vertical-align: top;\n",
              "    }\n",
              "\n",
              "    .dataframe thead th {\n",
              "        text-align: right;\n",
              "    }\n",
              "</style>\n",
              "<table border=\"1\" class=\"dataframe\">\n",
              "  <thead>\n",
              "    <tr style=\"text-align: right;\">\n",
              "      <th></th>\n",
              "      <th>mean_test_score</th>\n",
              "      <th>std_test_score</th>\n",
              "      <th>params</th>\n",
              "    </tr>\n",
              "  </thead>\n",
              "  <tbody>\n",
              "    <tr>\n",
              "      <th>0</th>\n",
              "      <td>0.126000</td>\n",
              "      <td>0.008981</td>\n",
              "      <td>{'C': 1, 'kernel': 'linear'}</td>\n",
              "    </tr>\n",
              "    <tr>\n",
              "      <th>1</th>\n",
              "      <td>0.126000</td>\n",
              "      <td>0.008981</td>\n",
              "      <td>{'C': 10, 'kernel': 'linear'}</td>\n",
              "    </tr>\n",
              "    <tr>\n",
              "      <th>2</th>\n",
              "      <td>0.126000</td>\n",
              "      <td>0.008981</td>\n",
              "      <td>{'C': 100, 'kernel': 'linear'}</td>\n",
              "    </tr>\n",
              "    <tr>\n",
              "      <th>3</th>\n",
              "      <td>0.126000</td>\n",
              "      <td>0.008981</td>\n",
              "      <td>{'C': 1000, 'kernel': 'linear'}</td>\n",
              "    </tr>\n",
              "    <tr>\n",
              "      <th>4</th>\n",
              "      <td>0.090000</td>\n",
              "      <td>0.009006</td>\n",
              "      <td>{'C': 1, 'gamma': 0.001, 'kernel': 'rbf'}</td>\n",
              "    </tr>\n",
              "    <tr>\n",
              "      <th>5</th>\n",
              "      <td>0.030667</td>\n",
              "      <td>0.006200</td>\n",
              "      <td>{'C': 1, 'gamma': 0.0001, 'kernel': 'rbf'}</td>\n",
              "    </tr>\n",
              "    <tr>\n",
              "      <th>6</th>\n",
              "      <td>0.139667</td>\n",
              "      <td>0.006182</td>\n",
              "      <td>{'C': 10, 'gamma': 0.001, 'kernel': 'rbf'}</td>\n",
              "    </tr>\n",
              "    <tr>\n",
              "      <th>7</th>\n",
              "      <td>0.096000</td>\n",
              "      <td>0.007860</td>\n",
              "      <td>{'C': 10, 'gamma': 0.0001, 'kernel': 'rbf'}</td>\n",
              "    </tr>\n",
              "    <tr>\n",
              "      <th>8</th>\n",
              "      <td>0.133333</td>\n",
              "      <td>0.007226</td>\n",
              "      <td>{'C': 100, 'gamma': 0.001, 'kernel': 'rbf'}</td>\n",
              "    </tr>\n",
              "    <tr>\n",
              "      <th>9</th>\n",
              "      <td>0.125333</td>\n",
              "      <td>0.004643</td>\n",
              "      <td>{'C': 100, 'gamma': 0.0001, 'kernel': 'rbf'}</td>\n",
              "    </tr>\n",
              "    <tr>\n",
              "      <th>10</th>\n",
              "      <td>0.133333</td>\n",
              "      <td>0.006992</td>\n",
              "      <td>{'C': 1000, 'gamma': 0.001, 'kernel': 'rbf'}</td>\n",
              "    </tr>\n",
              "    <tr>\n",
              "      <th>11</th>\n",
              "      <td>0.130000</td>\n",
              "      <td>0.004714</td>\n",
              "      <td>{'C': 1000, 'gamma': 0.0001, 'kernel': 'rbf'}</td>\n",
              "    </tr>\n",
              "  </tbody>\n",
              "</table>\n",
              "</div>\n",
              "      <button class=\"colab-df-convert\" onclick=\"convertToInteractive('df-9fe1384f-82e1-4d9d-ba02-7a7b5d6226ed')\"\n",
              "              title=\"Convert this dataframe to an interactive table.\"\n",
              "              style=\"display:none;\">\n",
              "        \n",
              "  <svg xmlns=\"http://www.w3.org/2000/svg\" height=\"24px\"viewBox=\"0 0 24 24\"\n",
              "       width=\"24px\">\n",
              "    <path d=\"M0 0h24v24H0V0z\" fill=\"none\"/>\n",
              "    <path d=\"M18.56 5.44l.94 2.06.94-2.06 2.06-.94-2.06-.94-.94-2.06-.94 2.06-2.06.94zm-11 1L8.5 8.5l.94-2.06 2.06-.94-2.06-.94L8.5 2.5l-.94 2.06-2.06.94zm10 10l.94 2.06.94-2.06 2.06-.94-2.06-.94-.94-2.06-.94 2.06-2.06.94z\"/><path d=\"M17.41 7.96l-1.37-1.37c-.4-.4-.92-.59-1.43-.59-.52 0-1.04.2-1.43.59L10.3 9.45l-7.72 7.72c-.78.78-.78 2.05 0 2.83L4 21.41c.39.39.9.59 1.41.59.51 0 1.02-.2 1.41-.59l7.78-7.78 2.81-2.81c.8-.78.8-2.07 0-2.86zM5.41 20L4 18.59l7.72-7.72 1.47 1.35L5.41 20z\"/>\n",
              "  </svg>\n",
              "      </button>\n",
              "      \n",
              "  <style>\n",
              "    .colab-df-container {\n",
              "      display:flex;\n",
              "      flex-wrap:wrap;\n",
              "      gap: 12px;\n",
              "    }\n",
              "\n",
              "    .colab-df-convert {\n",
              "      background-color: #E8F0FE;\n",
              "      border: none;\n",
              "      border-radius: 50%;\n",
              "      cursor: pointer;\n",
              "      display: none;\n",
              "      fill: #1967D2;\n",
              "      height: 32px;\n",
              "      padding: 0 0 0 0;\n",
              "      width: 32px;\n",
              "    }\n",
              "\n",
              "    .colab-df-convert:hover {\n",
              "      background-color: #E2EBFA;\n",
              "      box-shadow: 0px 1px 2px rgba(60, 64, 67, 0.3), 0px 1px 3px 1px rgba(60, 64, 67, 0.15);\n",
              "      fill: #174EA6;\n",
              "    }\n",
              "\n",
              "    [theme=dark] .colab-df-convert {\n",
              "      background-color: #3B4455;\n",
              "      fill: #D2E3FC;\n",
              "    }\n",
              "\n",
              "    [theme=dark] .colab-df-convert:hover {\n",
              "      background-color: #434B5C;\n",
              "      box-shadow: 0px 1px 3px 1px rgba(0, 0, 0, 0.15);\n",
              "      filter: drop-shadow(0px 1px 2px rgba(0, 0, 0, 0.3));\n",
              "      fill: #FFFFFF;\n",
              "    }\n",
              "  </style>\n",
              "\n",
              "      <script>\n",
              "        const buttonEl =\n",
              "          document.querySelector('#df-9fe1384f-82e1-4d9d-ba02-7a7b5d6226ed button.colab-df-convert');\n",
              "        buttonEl.style.display =\n",
              "          google.colab.kernel.accessAllowed ? 'block' : 'none';\n",
              "\n",
              "        async function convertToInteractive(key) {\n",
              "          const element = document.querySelector('#df-9fe1384f-82e1-4d9d-ba02-7a7b5d6226ed');\n",
              "          const dataTable =\n",
              "            await google.colab.kernel.invokeFunction('convertToInteractive',\n",
              "                                                     [key], {});\n",
              "          if (!dataTable) return;\n",
              "\n",
              "          const docLinkHtml = 'Like what you see? Visit the ' +\n",
              "            '<a target=\"_blank\" href=https://colab.research.google.com/notebooks/data_table.ipynb>data table notebook</a>'\n",
              "            + ' to learn more about interactive tables.';\n",
              "          element.innerHTML = '';\n",
              "          dataTable['output_type'] = 'display_data';\n",
              "          await google.colab.output.renderOutput(dataTable, element);\n",
              "          const docLink = document.createElement('div');\n",
              "          docLink.innerHTML = docLinkHtml;\n",
              "          element.appendChild(docLink);\n",
              "        }\n",
              "      </script>\n",
              "    </div>\n",
              "  </div>\n",
              "  "
            ]
          },
          "metadata": {},
          "execution_count": 92
        }
      ]
    },
    {
      "cell_type": "code",
      "source": [
        "# Best params, accuracy\n",
        "print(f\"The Best Parameters: {clf2.best_params_}\")\n",
        "print(f\"The Best Accuracy: {clf2.best_score_}\")"
      ],
      "metadata": {
        "colab": {
          "base_uri": "https://localhost:8080/"
        },
        "id": "gIlCxeGJsilo",
        "outputId": "e843a9da-6050-4030-b1d1-c02bc30ad299"
      },
      "id": "gIlCxeGJsilo",
      "execution_count": null,
      "outputs": [
        {
          "output_type": "stream",
          "name": "stdout",
          "text": [
            "The Best Parameters: {'C': 10, 'gamma': 0.001, 'kernel': 'rbf'}\n",
            "The Best Accuracy: 0.13966666666666666\n"
          ]
        }
      ]
    },
    {
      "cell_type": "code",
      "source": [
        "y_pred2 = clf2.predict(cifar100_test['data'])"
      ],
      "metadata": {
        "id": "FLtL4eCn0BCP"
      },
      "id": "FLtL4eCn0BCP",
      "execution_count": null,
      "outputs": []
    },
    {
      "cell_type": "code",
      "source": [
        "print(metrics.classification_report(cifar100_test['labels'], y_pred2))"
      ],
      "metadata": {
        "colab": {
          "base_uri": "https://localhost:8080/"
        },
        "id": "Kv2DX9Ly0nzZ",
        "outputId": "9fc457d8-a107-4adb-ff09-2c70c7763c17"
      },
      "id": "Kv2DX9Ly0nzZ",
      "execution_count": null,
      "outputs": [
        {
          "output_type": "stream",
          "name": "stdout",
          "text": [
            "              precision    recall  f1-score   support\n",
            "\n",
            "           0       0.40      0.29      0.33         7\n",
            "           1       0.33      0.33      0.33         3\n",
            "           2       0.00      0.00      0.00         2\n",
            "           3       0.00      0.00      0.00         4\n",
            "           4       0.00      0.00      0.00         3\n",
            "           5       0.00      0.00      0.00         5\n",
            "           6       0.33      0.33      0.33         3\n",
            "           7       0.00      0.00      0.00         1\n",
            "           8       0.00      0.00      0.00         0\n",
            "           9       0.00      0.00      0.00         4\n",
            "          10       0.00      0.00      0.00         2\n",
            "          11       0.00      0.00      0.00         3\n",
            "          12       0.00      0.00      0.00         2\n",
            "          13       0.00      0.00      0.00         3\n",
            "          14       0.00      0.00      0.00         3\n",
            "          15       0.33      0.50      0.40         2\n",
            "          16       0.25      0.25      0.25         4\n",
            "          17       0.25      0.25      0.25         4\n",
            "          18       0.00      0.00      0.00         2\n",
            "          19       0.00      0.00      0.00         2\n",
            "          20       0.33      0.33      0.33         3\n",
            "          21       0.33      0.50      0.40         2\n",
            "          22       0.00      0.00      0.00         1\n",
            "          23       0.00      0.00      0.00         4\n",
            "          24       0.17      0.33      0.22         3\n",
            "          25       0.00      0.00      0.00         3\n",
            "          26       0.00      0.00      0.00         3\n",
            "          27       0.00      0.00      0.00         4\n",
            "          28       0.50      0.33      0.40         3\n",
            "          29       0.00      0.00      0.00         2\n",
            "          30       0.57      1.00      0.73         4\n",
            "          31       0.00      0.00      0.00         3\n",
            "          32       0.00      0.00      0.00         1\n",
            "          33       0.25      0.33      0.29         3\n",
            "          34       0.00      0.00      0.00         1\n",
            "          35       0.00      0.00      0.00         3\n",
            "          36       0.00      0.00      0.00         5\n",
            "          37       0.00      0.00      0.00         3\n",
            "          38       0.00      0.00      0.00         2\n",
            "          39       0.00      0.00      0.00         4\n",
            "          40       0.00      0.00      0.00         0\n",
            "          41       0.67      0.67      0.67         3\n",
            "          42       0.00      0.00      0.00         5\n",
            "          43       0.60      0.43      0.50         7\n",
            "          44       0.00      0.00      0.00         3\n",
            "          45       0.00      0.00      0.00         1\n",
            "          46       0.00      0.00      0.00         2\n",
            "          47       0.00      0.00      0.00         3\n",
            "          48       0.50      0.17      0.25         6\n",
            "          49       0.00      0.00      0.00         4\n",
            "          50       0.00      0.00      0.00         5\n",
            "          51       0.33      0.25      0.29         4\n",
            "          52       0.20      0.50      0.29         2\n",
            "          53       0.33      0.67      0.44         3\n",
            "          54       0.00      0.00      0.00         1\n",
            "          55       0.00      0.00      0.00         4\n",
            "          56       0.00      0.00      0.00         5\n",
            "          57       0.50      0.50      0.50         2\n",
            "          58       0.00      0.00      0.00         4\n",
            "          59       0.00      0.00      0.00         5\n",
            "          60       0.67      1.00      0.80         2\n",
            "          61       0.00      0.00      0.00         5\n",
            "          62       0.40      0.67      0.50         3\n",
            "          63       0.00      0.00      0.00         1\n",
            "          64       0.00      0.00      0.00         3\n",
            "          65       0.00      0.00      0.00         2\n",
            "          66       0.00      0.00      0.00         3\n",
            "          67       0.00      0.00      0.00         2\n",
            "          68       0.00      0.00      0.00         0\n",
            "          69       0.00      0.00      0.00         2\n",
            "          70       0.00      0.00      0.00         1\n",
            "          71       0.12      0.50      0.20         2\n",
            "          72       0.00      0.00      0.00         0\n",
            "          73       0.00      0.00      0.00         2\n",
            "          74       0.14      0.50      0.22         2\n",
            "          75       0.00      0.00      0.00         2\n",
            "          76       0.00      0.00      0.00         1\n",
            "          77       0.00      0.00      0.00         2\n",
            "          78       0.00      0.00      0.00         3\n",
            "          79       0.00      0.00      0.00         3\n",
            "          80       0.00      0.00      0.00         3\n",
            "          81       0.00      0.00      0.00         5\n",
            "          82       1.00      0.25      0.40         4\n",
            "          83       0.00      0.00      0.00         3\n",
            "          84       0.00      0.00      0.00         2\n",
            "          85       0.50      0.50      0.50         4\n",
            "          86       0.00      0.00      0.00         5\n",
            "          87       0.25      0.50      0.33         2\n",
            "          88       0.00      0.00      0.00         1\n",
            "          89       0.00      0.00      0.00         2\n",
            "          90       0.00      0.00      0.00         1\n",
            "          91       0.00      0.00      0.00         2\n",
            "          92       0.50      0.17      0.25         6\n",
            "          93       0.00      0.00      0.00         2\n",
            "          94       0.33      0.12      0.18         8\n",
            "          95       0.00      0.00      0.00         3\n",
            "          96       0.20      0.25      0.22         4\n",
            "          97       0.25      0.09      0.13        11\n",
            "          98       0.00      0.00      0.00         3\n",
            "          99       0.33      0.33      0.33         3\n",
            "\n",
            "    accuracy                           0.14       300\n",
            "   macro avg       0.12      0.13      0.11       300\n",
            "weighted avg       0.16      0.14      0.13       300\n",
            "\n"
          ]
        },
        {
          "output_type": "stream",
          "name": "stderr",
          "text": [
            "/usr/local/lib/python3.7/dist-packages/sklearn/metrics/_classification.py:1318: UndefinedMetricWarning: Precision and F-score are ill-defined and being set to 0.0 in labels with no predicted samples. Use `zero_division` parameter to control this behavior.\n",
            "  _warn_prf(average, modifier, msg_start, len(result))\n",
            "/usr/local/lib/python3.7/dist-packages/sklearn/metrics/_classification.py:1318: UndefinedMetricWarning: Recall and F-score are ill-defined and being set to 0.0 in labels with no true samples. Use `zero_division` parameter to control this behavior.\n",
            "  _warn_prf(average, modifier, msg_start, len(result))\n",
            "/usr/local/lib/python3.7/dist-packages/sklearn/metrics/_classification.py:1318: UndefinedMetricWarning: Precision and F-score are ill-defined and being set to 0.0 in labels with no predicted samples. Use `zero_division` parameter to control this behavior.\n",
            "  _warn_prf(average, modifier, msg_start, len(result))\n",
            "/usr/local/lib/python3.7/dist-packages/sklearn/metrics/_classification.py:1318: UndefinedMetricWarning: Recall and F-score are ill-defined and being set to 0.0 in labels with no true samples. Use `zero_division` parameter to control this behavior.\n",
            "  _warn_prf(average, modifier, msg_start, len(result))\n",
            "/usr/local/lib/python3.7/dist-packages/sklearn/metrics/_classification.py:1318: UndefinedMetricWarning: Precision and F-score are ill-defined and being set to 0.0 in labels with no predicted samples. Use `zero_division` parameter to control this behavior.\n",
            "  _warn_prf(average, modifier, msg_start, len(result))\n",
            "/usr/local/lib/python3.7/dist-packages/sklearn/metrics/_classification.py:1318: UndefinedMetricWarning: Recall and F-score are ill-defined and being set to 0.0 in labels with no true samples. Use `zero_division` parameter to control this behavior.\n",
            "  _warn_prf(average, modifier, msg_start, len(result))\n"
          ]
        }
      ]
    },
    {
      "cell_type": "code",
      "source": [
        "# save the model to disk\n",
        "filename = 'cifar100_cv.sav'\n",
        "pickle.dump(clf2, open(filename, 'wb'))"
      ],
      "metadata": {
        "id": "uxKbXkX6sI8U"
      },
      "id": "uxKbXkX6sI8U",
      "execution_count": null,
      "outputs": []
    },
    {
      "cell_type": "markdown",
      "source": [
        "Train / Test validation"
      ],
      "metadata": {
        "id": "3ydh7jxA19TV"
      },
      "id": "3ydh7jxA19TV"
    },
    {
      "cell_type": "code",
      "source": [
        "param_grid = [\n",
        "  {'C': [1, 10, 100, 1000], 'kernel': ['linear']},\n",
        "  {'C': [1, 10, 100, 1000], 'gamma': [0.001, 0.0001], 'kernel': ['rbf']},\n",
        " ]"
      ],
      "metadata": {
        "id": "Qvep4NB9_OhS"
      },
      "id": "Qvep4NB9_OhS",
      "execution_count": null,
      "outputs": []
    },
    {
      "cell_type": "code",
      "source": [
        "C = param_grid[0]['C']"
      ],
      "metadata": {
        "id": "AzvNlAuB_SRT"
      },
      "id": "AzvNlAuB_SRT",
      "execution_count": null,
      "outputs": []
    },
    {
      "cell_type": "markdown",
      "source": [
        "cifar10"
      ],
      "metadata": {
        "id": "_nbxhjLsCJHO"
      },
      "id": "_nbxhjLsCJHO"
    },
    {
      "cell_type": "code",
      "source": [
        "acc = []\n",
        "for c in C:\n",
        "  linear_clf = svm.SVC(kernel='linear', C=c, random_state=seed)\n",
        "  linear_clf.fit(cifar10_train['data'], cifar10_train['labels'])\n",
        "  y_pred = linear_clf.predict(cifar10_test['data'])\n",
        "  a = accuracy_score(cifar10_test['labels'], y_pred)\n",
        "  acc.append(a)"
      ],
      "metadata": {
        "colab": {
          "base_uri": "https://localhost:8080/"
        },
        "id": "FpBc_c9m9--e",
        "outputId": "865cfc8a-0779-457d-8896-fea480987b25"
      },
      "id": "FpBc_c9m9--e",
      "execution_count": null,
      "outputs": [
        {
          "output_type": "stream",
          "name": "stdout",
          "text": [
            "1000\n"
          ]
        }
      ]
    },
    {
      "cell_type": "code",
      "source": [
        "print(acc)"
      ],
      "metadata": {
        "colab": {
          "base_uri": "https://localhost:8080/"
        },
        "id": "jxjFS3-7BzM3",
        "outputId": "e56db4ee-a632-4128-b373-20812783757c"
      },
      "id": "jxjFS3-7BzM3",
      "execution_count": null,
      "outputs": [
        {
          "output_type": "stream",
          "name": "stdout",
          "text": [
            "[0.32, 0.31666666666666665, 0.31666666666666665, 0.31666666666666665]\n"
          ]
        }
      ]
    },
    {
      "cell_type": "code",
      "source": [
        "Gamma = param_grid[1]['gamma']"
      ],
      "metadata": {
        "id": "5cBRtqAUBdvF"
      },
      "id": "5cBRtqAUBdvF",
      "execution_count": null,
      "outputs": []
    },
    {
      "cell_type": "code",
      "source": [
        "acc = []\n",
        "for g in Gamma:\n",
        "    for c in C:\n",
        "        linear_clf = svm.SVC(kernel='rbf', C=c, gamma=g, random_state=seed)\n",
        "        linear_clf.fit(cifar10_train['data'], cifar10_train['labels'])\n",
        "        y_pred = linear_clf.predict(cifar10_test['data'])\n",
        "        a = accuracy_score(cifar10_test['labels'], y_pred)\n",
        "        acc.append(a)\n",
        "print(acc)"
      ],
      "metadata": {
        "colab": {
          "base_uri": "https://localhost:8080/"
        },
        "id": "JY1_x4JHBXbx",
        "outputId": "7ad8f768-e153-43d8-c1e5-d3d3955eb061"
      },
      "id": "JY1_x4JHBXbx",
      "execution_count": null,
      "outputs": [
        {
          "output_type": "stream",
          "name": "stdout",
          "text": [
            "[0.39666666666666667, 0.3933333333333333, 0.4066666666666667, 0.4033333333333333, 0.29333333333333333, 0.3933333333333333, 0.37333333333333335, 0.38]\n"
          ]
        }
      ]
    },
    {
      "cell_type": "markdown",
      "source": [
        "Best model is {'C': 100, 'gamma': 0.001, 'kernel': 'rbf'} for cifar10"
      ],
      "metadata": {
        "id": "mn7f7-wTEdvQ"
      },
      "id": "mn7f7-wTEdvQ"
    },
    {
      "cell_type": "markdown",
      "source": [
        "cifar 100"
      ],
      "metadata": {
        "id": "ivKkaMcCCKk5"
      },
      "id": "ivKkaMcCCKk5"
    },
    {
      "cell_type": "code",
      "source": [
        "acc100 = []\n",
        "for c in C:\n",
        "  linear_clf = svm.SVC(kernel='linear', C=c, random_state=seed)\n",
        "  linear_clf.fit(cifar100_train['data'], cifar100_train['labels'])\n",
        "  y_pred = linear_clf.predict(cifar100_test['data'])\n",
        "  a = accuracy_score(cifar100_test['labels'], y_pred)\n",
        "  acc100.append(a)\n",
        "print(acc100)"
      ],
      "metadata": {
        "colab": {
          "base_uri": "https://localhost:8080/"
        },
        "id": "51Nwjd7IB9Ff",
        "outputId": "767d17d0-c3c9-4eb3-deef-2ab47d26015b"
      },
      "id": "51Nwjd7IB9Ff",
      "execution_count": null,
      "outputs": [
        {
          "output_type": "stream",
          "name": "stdout",
          "text": [
            "[0.11666666666666667, 0.11666666666666667, 0.11666666666666667, 0.11666666666666667]\n"
          ]
        }
      ]
    },
    {
      "cell_type": "code",
      "source": [
        "for g in Gamma:\n",
        "    for c in C:\n",
        "        print(g, c)"
      ],
      "metadata": {
        "colab": {
          "base_uri": "https://localhost:8080/"
        },
        "id": "xSwg0DZTD7Vk",
        "outputId": "8712373b-215e-4238-e7fc-32357af35550"
      },
      "id": "xSwg0DZTD7Vk",
      "execution_count": null,
      "outputs": [
        {
          "output_type": "stream",
          "name": "stdout",
          "text": [
            "0.001 1\n",
            "0.001 10\n",
            "0.001 100\n",
            "0.001 1000\n",
            "0.0001 1\n",
            "0.0001 10\n",
            "0.0001 100\n",
            "0.0001 1000\n"
          ]
        }
      ]
    },
    {
      "cell_type": "code",
      "source": [
        "acc100 = []\n",
        "for g in Gamma:\n",
        "    for c in C:\n",
        "        linear_clf = svm.SVC(kernel='rbf', C=c, gamma=g, random_state=seed)\n",
        "        linear_clf.fit(cifar100_train['data'], cifar100_train['labels'])\n",
        "        y_pred = linear_clf.predict(cifar100_test['data'])\n",
        "        a = accuracy_score(cifar100_test['labels'], y_pred)\n",
        "        acc100.append(a)\n",
        "print(acc100)"
      ],
      "metadata": {
        "colab": {
          "base_uri": "https://localhost:8080/"
        },
        "id": "5qWInKvVClNJ",
        "outputId": "ad45f0c1-b3aa-4439-f046-bd2f4ddfd65a"
      },
      "id": "5qWInKvVClNJ",
      "execution_count": null,
      "outputs": [
        {
          "output_type": "stream",
          "name": "stdout",
          "text": [
            "[0.11, 0.14, 0.13333333333333333, 0.13666666666666666, 0.04, 0.09666666666666666, 0.14333333333333334, 0.11333333333333333]\n"
          ]
        }
      ]
    },
    {
      "cell_type": "markdown",
      "source": [
        "Best model is {'C': 10, 'gamma': 0.001, 'kernel': 'rbf'} for cifar100"
      ],
      "metadata": {
        "id": "ZCGLMNkfEN9i"
      },
      "id": "ZCGLMNkfEN9i"
    },
    {
      "cell_type": "markdown",
      "metadata": {
        "id": "TREqajLw5zd0"
      },
      "source": [
        "### Check run time"
      ],
      "id": "TREqajLw5zd0"
    },
    {
      "cell_type": "code",
      "source": [
        "# cifar 10 training time - cv best\n",
        "import time\n",
        "start = time.time()\n",
        "\n",
        "clf = svm.SVC(kernel='rbf', C=10, gamma=0.001, random_state=seed)\n",
        "clf.fit(cifar10_train['data'], cifar10_train['labels'])\n",
        "\n",
        "end = time.time()\n",
        "print(\"Run time [s]: \",end-start)"
      ],
      "metadata": {
        "colab": {
          "base_uri": "https://localhost:8080/"
        },
        "id": "QLIcFr7oGBYd",
        "outputId": "ac14dee4-1964-41c8-a009-489c981562c7"
      },
      "id": "QLIcFr7oGBYd",
      "execution_count": null,
      "outputs": [
        {
          "output_type": "stream",
          "name": "stdout",
          "text": [
            "Run time [s]:  17.560858726501465\n"
          ]
        }
      ]
    },
    {
      "cell_type": "code",
      "source": [
        "# cifar 10 inference time - cv best\n",
        "import time\n",
        "start = time.time()\n",
        "\n",
        "y_pred = linear_clf.predict(cifar10_test['data'])\n",
        "\n",
        "end = time.time()\n",
        "print(\"Run time [s]: \",end-start)"
      ],
      "metadata": {
        "colab": {
          "base_uri": "https://localhost:8080/"
        },
        "id": "lPPmJ3vaGVur",
        "outputId": "b71ce577-ba10-45bc-96fa-31bc57c79427"
      },
      "id": "lPPmJ3vaGVur",
      "execution_count": null,
      "outputs": [
        {
          "output_type": "stream",
          "name": "stdout",
          "text": [
            "Run time [s]:  4.858469009399414\n"
          ]
        }
      ]
    },
    {
      "cell_type": "code",
      "source": [
        "# cifar 10 training time - train/test val best\n",
        "import time\n",
        "start = time.time()\n",
        "\n",
        "clf = svm.SVC(kernel='rbf', C=100, gamma=0.001, random_state=seed)\n",
        "clf.fit(cifar10_train['data'], cifar10_train['labels'])\n",
        "\n",
        "end = time.time()\n",
        "print(\"Run time [s]: \",end-start)\n",
        "\n",
        "# cifar 10 inference time\n",
        "import time\n",
        "start = time.time()\n",
        "\n",
        "y_pred = linear_clf.predict(cifar10_test['data'])\n",
        "\n",
        "end = time.time()\n",
        "print(\"Run time [s]: \",end-start)"
      ],
      "metadata": {
        "colab": {
          "base_uri": "https://localhost:8080/"
        },
        "id": "yEIU55AHGdP2",
        "outputId": "80c9c5f9-0222-4890-b52e-3906213c389c"
      },
      "id": "yEIU55AHGdP2",
      "execution_count": null,
      "outputs": [
        {
          "output_type": "stream",
          "name": "stdout",
          "text": [
            "Run time [s]:  16.97023606300354\n",
            "Run time [s]:  4.0259339809417725\n"
          ]
        }
      ]
    },
    {
      "cell_type": "code",
      "execution_count": null,
      "metadata": {
        "id": "rSH02ThS52ER",
        "colab": {
          "base_uri": "https://localhost:8080/"
        },
        "outputId": "3cbbb693-dafa-4f08-9f21-764bd27fb194"
      },
      "outputs": [
        {
          "output_type": "stream",
          "name": "stdout",
          "text": [
            "Run time [s]:  22.20487689971924\n"
          ]
        }
      ],
      "source": [
        "# cifar 100 training time\n",
        "import time\n",
        "start = time.time()\n",
        "\n",
        "clf = svm.SVC(kernel='rbf', C=10, gamma=0.001, random_state=seed)\n",
        "clf.fit(cifar100_train['data'], cifar100_train['labels'])\n",
        "\n",
        "end = time.time()\n",
        "print(\"Run time [s]: \",end-start)"
      ],
      "id": "rSH02ThS52ER"
    },
    {
      "cell_type": "code",
      "source": [
        "# cifar 100 inference time\n",
        "import time\n",
        "start = time.time()\n",
        "\n",
        "y_pred = linear_clf.predict(cifar100_test['data'])\n",
        "\n",
        "end = time.time()\n",
        "print(\"Run time [s]: \",end-start)"
      ],
      "metadata": {
        "colab": {
          "base_uri": "https://localhost:8080/"
        },
        "id": "q_1mNcVLF1Ma",
        "outputId": "0b28e351-ca2b-41f9-bb34-610c3a9a32a6"
      },
      "id": "q_1mNcVLF1Ma",
      "execution_count": null,
      "outputs": [
        {
          "output_type": "stream",
          "name": "stdout",
          "text": [
            "Run time [s]:  5.466325283050537\n"
          ]
        }
      ]
    },
    {
      "cell_type": "markdown",
      "source": [
        "### Varying training set"
      ],
      "metadata": {
        "id": "IHigXvDRH0jK"
      },
      "id": "IHigXvDRH0jK"
    },
    {
      "cell_type": "code",
      "source": [
        "cifar10_1000 = dataset_generator(cifar10, 1000, 'cifar10')\n",
        "cifar10_2000 = dataset_generator(cifar10, 2000, 'cifar10')"
      ],
      "metadata": {
        "id": "tdIh9H1iFfvV"
      },
      "id": "tdIh9H1iFfvV",
      "execution_count": null,
      "outputs": []
    },
    {
      "cell_type": "code",
      "source": [
        "clf = svm.SVC(kernel='rbf', C=10, gamma=0.001, random_state=seed)\n",
        "clf.fit(cifar10_1000['data'], cifar10_1000['labels'])\n",
        "y_pred = clf.predict(cifar10_test['data'])\n",
        "accuracy_score(cifar10_test['labels'], y_pred)"
      ],
      "metadata": {
        "colab": {
          "base_uri": "https://localhost:8080/"
        },
        "id": "2UlOrXUBILPG",
        "outputId": "ffedc596-1385-41fc-ec46-294d2a12743e"
      },
      "id": "2UlOrXUBILPG",
      "execution_count": null,
      "outputs": [
        {
          "output_type": "execute_result",
          "data": {
            "text/plain": [
              "0.36666666666666664"
            ]
          },
          "metadata": {},
          "execution_count": 130
        }
      ]
    },
    {
      "cell_type": "code",
      "source": [
        "clf = svm.SVC(kernel='rbf', C=10, gamma=0.001, random_state=seed)\n",
        "clf.fit(cifar10_2000['data'], cifar10_2000['labels'])\n",
        "y_pred = clf.predict(cifar10_test['data'])\n",
        "accuracy_score(cifar10_test['labels'], y_pred)"
      ],
      "metadata": {
        "colab": {
          "base_uri": "https://localhost:8080/"
        },
        "id": "7w8FAiyaIw46",
        "outputId": "cd9508b3-5fda-43e6-ad56-62bde7fc6dc6"
      },
      "id": "7w8FAiyaIw46",
      "execution_count": null,
      "outputs": [
        {
          "output_type": "execute_result",
          "data": {
            "text/plain": [
              "0.3933333333333333"
            ]
          },
          "metadata": {},
          "execution_count": 131
        }
      ]
    },
    {
      "cell_type": "code",
      "source": [
        "cifar100_1000 = dataset_generator(cifar100, 1000, 'cifar100')\n",
        "cifar100_2000 = dataset_generator(cifar100, 2000, 'cifar100')"
      ],
      "metadata": {
        "id": "Nub9Rp0lI5Z5"
      },
      "id": "Nub9Rp0lI5Z5",
      "execution_count": null,
      "outputs": []
    },
    {
      "cell_type": "code",
      "source": [
        "clf = svm.SVC(kernel='rbf', C=10, gamma=0.001, random_state=seed)\n",
        "clf.fit(cifar100_1000['data'], cifar100_1000['labels'])\n",
        "y_pred = clf.predict(cifar100_test['data'])\n",
        "accuracy_score(cifar100_test['labels'], y_pred)"
      ],
      "metadata": {
        "colab": {
          "base_uri": "https://localhost:8080/"
        },
        "id": "9g2r2-yuI9sG",
        "outputId": "2ad42520-c36c-4b3e-d8c5-7eaf5e7c47e9"
      },
      "id": "9g2r2-yuI9sG",
      "execution_count": null,
      "outputs": [
        {
          "output_type": "execute_result",
          "data": {
            "text/plain": [
              "0.10666666666666667"
            ]
          },
          "metadata": {},
          "execution_count": 133
        }
      ]
    },
    {
      "cell_type": "code",
      "source": [
        "clf = svm.SVC(kernel='rbf', C=10, gamma=0.001, random_state=seed)\n",
        "clf.fit(cifar100_2000['data'], cifar100_2000['labels'])\n",
        "y_pred = clf.predict(cifar100_test['data'])\n",
        "accuracy_score(cifar100_test['labels'], y_pred)"
      ],
      "metadata": {
        "colab": {
          "base_uri": "https://localhost:8080/"
        },
        "id": "_ek8YNdTJDjn",
        "outputId": "88027a3b-8b41-4b9a-9496-0433e469b0e0"
      },
      "id": "_ek8YNdTJDjn",
      "execution_count": null,
      "outputs": [
        {
          "output_type": "execute_result",
          "data": {
            "text/plain": [
              "0.14"
            ]
          },
          "metadata": {},
          "execution_count": 134
        }
      ]
    }
  ],
  "metadata": {
    "colab": {
      "collapsed_sections": [
        "2d6dad1b-a06c-4dcc-9ffe-5d0b4d27271c"
      ],
      "name": "SVM.ipynb",
      "provenance": []
    },
    "kernelspec": {
      "display_name": "Python 3 (ipykernel)",
      "language": "python",
      "name": "python3"
    },
    "language_info": {
      "codemirror_mode": {
        "name": "ipython",
        "version": 3
      },
      "file_extension": ".py",
      "mimetype": "text/x-python",
      "name": "python",
      "nbconvert_exporter": "python",
      "pygments_lexer": "ipython3",
      "version": "3.9.7"
    }
  },
  "nbformat": 4,
  "nbformat_minor": 5
}